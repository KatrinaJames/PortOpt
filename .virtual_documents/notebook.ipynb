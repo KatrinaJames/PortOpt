from bs4 import BeautifulSoup
import numpy as np
import pandas as pd
import requests
from typing import List, Tuple

MIN_VOLUME = 100_000

wiki_page = requests.get('https://en.wikipedia.org/wiki/List_of_American_exchange-traded_funds').text
soup = BeautifulSoup(wiki_page, 'lxml')

list_items = soup.select('li:contains("|")')
tickers = []

for list_item in list_items:
    li_text: str = list_item.text
    start_index: int = li_text.find('|')
    end_index: int = li_text.find(')',start_index)
    tickers.append(li_text[start_index +1:end_index].strip())

print(tickers)


leveraged_page = requests.get('https://etfdb.com/etfs/leveraged/equity/').text
soup = BeautifulSoup(leveraged_page, 'lxml')

list_items = soup.select('td[data-th="Symbol"] > a')
for list_item in list_items:
    tickers.append(list_item.text)
    
print(tickers)


benchmark = '^GSPC' # add S&P 500 as benchmark
tickers.append(benchmark) # append benchmark


import yfinance as yf

data: pd.DataFrame = yf.download(tickers=" ".join(tickers), period="5y", interval="1d", group_by='ticker')
print(data)


import glob
import os

files = glob.glob(os.path.join("data", '*'))

for file in files:
    os.remove(file)


found_tickers: List[str] = data.columns.get_level_values(0).unique().to_list()

for found_ticker in found_tickers:
    data[found_ticker].to_csv(os.path.join("data", found_ticker + '.csv'))



csv_paths = glob.glob(os.path.join("data", '*.csv'))
prices_df = None
vol_df = None

for csv_path in csv_paths:
    (ticker_id, extension) = csv_path.split(".", 1)
    df = pd.read_csv(csv_path, index_col='Date', usecols=['Date', 'Adj Close', 'Volume'], header=0, parse_dates=True)

    if prices_df is not None:
        prices_df = prices_df.join(df[['Adj Close']])
        vol_df = vol_df.join(df[['Volume']])
    else:
        prices_df = df[['Adj Close']]
        vol_df = df[['Volume']]
        
    prices_df = prices_df.rename(columns={'Adj Close': os.path.split(ticker_id)[1]})
    vol_df = vol_df.rename(columns={'Volume': os.path.split(ticker_id)[1]})

prices_df = prices_df.sort_values(by='Date', axis=0)
vol_df = vol_df.sort_values(by='Date', axis=0)

print(prices_df)
print(vol_df)


avg_vol = vol_df.mean()
liquid_tickers = avg_vol.index[avg_vol >= MIN_VOLUME]
prices_df = prices_df[liquid_tickers]


most_recent_prices_df = prices_df.iloc[-1]
tickers_to_drop = most_recent_prices_df[most_recent_prices_df.isnull()].index.values
tickers_to_drop


returns_df = prices_df.pct_change()
returns_df = returns_df.drop(columns=tickers_to_drop)

found_tickers = returns_df.columns
returns_df


from scipy.stats import gmean

exp_return_df = pd.DataFrame()
for found_ticker in found_tickers:
    returns_sr = returns_df[pd.notnull(returns_df[found_ticker])][found_ticker]
    if exp_return_df.empty:
        exp_return_df = pd.DataFrame(data={
            'ticker': found_ticker,
            'exp_return': [0] if returns_sr.empty else [gmean(returns_sr + 1) - 1]
        })
    else:
        exp_return_df = pd.concat([
            exp_return_df,
            pd.DataFrame(data={
                'ticker': found_ticker,
                'exp_return': [0] if returns_sr.empty else [gmean(returns_sr + 1) - 1]
            })
        ])

exp_return_df = exp_return_df.set_index('ticker').T
exp_return_df


covar_df = returns_df.cov()
covar_df


exp_return_df = exp_return_df[covar_df.columns]
exp_return_df


alpha_df = exp_return_df.T - exp_return_df[benchmark] # subtract market return
alpha_df = alpha_df[alpha_df['exp_return'] > 0] # filter to only positive alpha
alpha_sr = alpha_df['exp_return'].to_numpy()

covar_df = covar_df[covar_df.index.isin(alpha_df.index)][alpha_df.index] # filter to only positive alpha
covar = covar_df.round(8).to_numpy()
alpha_df


from scipy.optimize import minimize
import numpy as np

def treynor_ratio(weights: np.ndarray, covar_matrix: np.ndarray, alpha_returns: np.ndarray) -> float:
    # we are minimizing the negative to get a maximum
    objective = float(-weights.dot(alpha_returns) / np.sqrt(weights.dot(covar_matrix).dot(weights.T)))
    return objective

weights = np.ones(covar_df.columns.__len__())
constraints = ({'type': 'eq', 'fun': lambda weights: np.sum(weights) - 1})
# bounds are in the form of (lower, upper)
bounds = [(0, None,) for i in range(len(weights))] # bounded by zero (no shorting)
portfolio = minimize(treynor_ratio, weights, args=(covar, alpha_sr), bounds=bounds, constraints=constraints)
portfolio


# send weights to clipboard
pd.Series(portfolio.x).to_clipboard()


# send expected alphas to clipboard
alpha_df.to_clipboard()


# send covars to clipboard
covar_df.to_clipboard()
