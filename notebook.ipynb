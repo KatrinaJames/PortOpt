{
 "cells": [
  {
   "cell_type": "markdown",
   "metadata": {},
   "source": [
    "Gather all tickers"
   ]
  },
  {
   "cell_type": "code",
   "execution_count": 2,
   "metadata": {
    "tags": []
   },
   "outputs": [
    {
     "output_type": "stream",
     "name": "stdout",
     "text": "['ITOT', 'ACWI', 'IWV', 'SCHB', 'FNDB', 'VT', 'VTI', 'VXUS', 'VTHR', 'DIA', 'RSP', 'IOO', 'IVV', 'SPY', 'SHE', 'VOO', 'IWM', 'OEF', 'QQQ', 'CVY', 'RPG', 'RPV', 'IWB', 'IWF', 'IWD', 'IVV', 'IVW', 'IVE', 'PKW', 'PRF', 'SPLV', 'SCHX', 'SCHG', 'SCHV', 'SCHD', 'FNDX', 'SDY', 'VOO', 'VOOG', 'VOOV', 'VV', 'VUG', 'VTV', 'MGC', 'MGK', 'MGV', 'VONE', 'VONG', 'VONV', 'VIG', 'VYM', 'DTN', 'DLN', 'MDY', 'DVY', 'IWR', 'IWP', 'IWS', 'IJH', 'IJK', 'IJJ', 'PDP', 'SCHM', 'IVOO', 'IVOG', 'IVOV', 'VO', 'VOT', 'VOE', 'VXF', 'DON', 'IWC', 'IWM', 'IWO', 'IWN', 'IJR', 'IJT', 'IJS', 'SCHA', 'FNDA', 'VIOO', 'VIOG', 'VIOV', 'VB', 'VBK', 'VBR', 'VTWO', 'VTWG', 'VTWV', 'EEB', 'ECON', 'IDV', 'ACWX', 'BKF', 'EFA', 'EFG', 'EFV', 'SCZ', 'EEM', 'PID', 'SCHC', 'SCHE', 'SCHF', 'FNDF', 'FNDC', 'FNDE', 'DWX', 'VEA', 'VWO', 'VXUS', 'VEU', 'VSS', 'DEM', 'DGS', 'AAXJ', 'EZU', 'EPP', 'IEV', 'ILF', 'FEZ', 'VGK', 'VPL', 'HEDJ', 'DFE', 'AND', 'GXF', 'EWA', 'EWC', 'EWG', 'EIS', 'EWI', 'EWJ', 'EWD', 'EWL', 'EWP', 'EWU', 'DXJ', 'NORW', 'EWZ', 'FXI', 'EWH', 'EWW', 'EPHE', 'RSX', 'EWS', 'EWM', 'EWY', 'EWT', 'EPI', 'ARGT', 'BRAF', 'BRAQ', 'BRAZ', 'GXG', 'XLY', 'IYC', 'ITB', 'XHB', 'VCR', 'XLP', 'IYK', 'VDC', 'AMLP', 'XLE', 'IYE', 'IGE', 'OIH', 'XOP', 'VDE', 'QCLN', 'NERD', 'ESPO', 'XLF', 'IYF', 'KBE', 'KRE', 'VFH', 'FXH', 'FBT', 'XLV', 'IYH', 'IBB', 'PJP', 'XBI', 'VHT', 'XLI', 'IYJ', 'VIS', 'XLB', 'IYM', 'GDX', 'GDXJ', 'VAW', 'FDN', 'XLK', 'IYW', 'IGV', 'VGT', 'IYZ', 'VOX', 'XLU', 'IDU', 'VPU', 'IPD', 'RXI', 'IPS', 'KXI', 'IPW', 'IXC', 'IPF', 'IXG', 'IRY', 'IXJ', 'IPN', 'EXI', 'GUNR', 'IRV', 'MXI', 'IPK', 'IXN', 'IST', 'IXP', 'IPU', 'JXI', 'HYLD', 'TDTT', 'CSJ', 'IEI', 'AGG', 'SHY', 'TIP', 'HYG', 'LQD', 'IEF', 'TLT', 'FLOT', 'CIU', 'GVI', 'EMB', 'MBB', 'MUB', 'SHV', 'HYD', 'HYS', 'STPZ', 'MINT', 'BOND', 'PCY', 'BKLN', 'SCHZ', 'SCHP', 'SCHO', 'SCHR', 'JNK', 'BIL', 'CWB', 'JNK', 'SCPB', 'BWX', 'SJNK', 'TFI', 'SHM', 'EDV', 'BIV', 'VCIT', 'VGIT', 'BLV', 'VCLT', 'VGLT', 'VMBS', 'BSV', 'VCSH', 'VGSH', 'VTIP', 'BND', 'BNDX', 'RJI', 'DJP', 'GSG', 'DBC', 'RJA', 'JJA', 'DBA', 'RJN', 'OIL', 'GAZ', 'UNG', 'USO', 'RJZ', 'JJM', 'JJC', 'DBB', 'SGOL', 'IAU', 'GLD', 'SIVR', 'SLV', 'PALL', 'PPLT', 'ICF', 'IFAS', 'IFEU', 'IYR', 'REM', 'SCHH', 'RWO', 'RWX', 'RWR', 'WREI', 'VNQ', 'VNQI', 'HDGE', 'HDGI', 'DOG', 'SH', 'MYY', 'SBB', 'PSQ', 'RWM', 'EFZ', 'MIDU', 'SPUU', 'SPXL', 'ERX', 'FAS', 'BGU', 'TNA', 'DDM', 'QLD', 'UWM', 'SSO', 'UPRO', 'SDS', 'SPXU', 'TZA', 'QID', 'SKF', 'TWM', 'DXD', 'SRS', 'MZZ', 'DUG', 'BGZ', 'ERY', 'FAZ', 'AADR', 'ACCU', 'DBIZ', 'EPRO', 'FWDB', 'FWDD', 'FWDI', 'GEUR', 'GGBP', 'GIVE', 'GLDE', 'GYEN', 'GTAA', 'HDGE', 'HDGI', 'HOLD', 'HYLD', 'MATH', 'MINC', 'QEH', 'TTFS', 'VEGA', 'YPRO', 'RIGS', 'ARKG', 'ARKQ', 'ARKW', 'ARKK', 'SYLD', 'GMMB', 'GMTB', 'GVT', 'RPX', 'RWG', 'EMLP', 'FMB', 'FMF', 'FPE', 'FTGS', 'FTHI', 'FTLB', 'FTSL', 'HYLS', 'RAVI', 'FTSD', 'GSY', 'HECO', 'HUSE', 'ICSH', 'IEIL', 'IEIS', 'IELG', 'IESM', 'NEAR', 'BABZ', 'BOND', 'DI', 'FORX', 'ILB', 'LDUR', 'MINT', 'MUNI', 'SMMU', 'CHNA', 'LALT', 'PHDG', 'PSR', 'ONEF', 'GAL', 'INKM', 'RLY', 'SYE', 'SYG', 'SYV', 'SRLN', 'ULST', 'ALD', 'AUNZ', 'BZF', 'CCX', 'CEW', 'CRDT', 'CYB', 'ELD', 'EMCB', 'EU', 'ICB', 'RRF', 'USDU', 'WDTI', '^GSPTSE']\n"
    }
   ],
   "source": [
    "import requests\n",
    "import pandas as pd\n",
    "from bs4 import BeautifulSoup\n",
    "from typing import List, Tuple\n",
    "\n",
    "wiki_page: str = requests.get('https://en.wikipedia.org/wiki/List_of_American_exchange-traded_funds').text\n",
    "soup: BeautifulSoup = BeautifulSoup(wiki_page,'lxml')\n",
    "\n",
    "list_items = soup.select('li:contains(\"|\")')\n",
    "tickers: List[str] = []\n",
    "\n",
    "for list_item in list_items:\n",
    "    li_text: str = list_item.text\n",
    "    start_index: int = li_text.find('|')\n",
    "    end_index: int = li_text.find(')',start_index)\n",
    "    tickers.append(li_text[start_index +1:end_index].strip())\n",
    "\n",
    "tickers.append('^GSPTSE') # add S&P/TSX Composite as benchmark\n",
    "print(tickers)"
   ]
  },
  {
   "cell_type": "markdown",
   "metadata": {},
   "source": [
    "Fetch ticker info from Yahoo"
   ]
  },
  {
   "cell_type": "code",
   "execution_count": 3,
   "metadata": {
    "tags": []
   },
   "outputs": [
    {
     "output_type": "stream",
     "name": "stdout",
     "text": "[*********************100%***********************]  426 of 426 completed\n\n16 Failed downloads:\n- CRDT: No data found for this date range, symbol may be delisted\n- GLDE: No data found for this date range, symbol may be delisted\n- RRF: No data found, symbol may be delisted\n- RPX: No data found, symbol may be delisted\n- QEH: No data found, symbol may be delisted\n- FTGS: No data found, symbol may be delisted\n- BABZ: No data found for this date range, symbol may be delisted\n- WDTI: No data found, symbol may be delisted\n- IRV: No data found for this date range, symbol may be delisted\n- ONEF: No data found for this date range, symbol may be delisted\n- BGU: No data found for this date range, symbol may be delisted\n- HDGI: No data found for this date range, symbol may be delisted\n- ACCU: No data found for this date range, symbol may be delisted\n- YPRO: No data found, symbol may be delisted\n- GGBP: No data found for this date range, symbol may be delisted\n- RWG: No data found, symbol may be delisted\n                  GXF                                                       \\\n                 Open       High        Low      Close  Adj Close   Volume   \nDate                                                                         \n2015-07-17        NaN        NaN        NaN        NaN        NaN      NaN   \n2015-07-20  24.280001  24.299999  24.209999  24.240000  20.469208   5100.0   \n2015-07-21  24.090000  24.180000  24.090000  24.160000  20.401651   3200.0   \n2015-07-22  23.900000  23.990000  23.870001  23.930000  20.207430   3800.0   \n2015-07-23  23.959999  23.990000  23.920000  23.969999  20.241209   2700.0   \n...               ...        ...        ...        ...        ...      ...   \n2020-07-13  22.600000  22.830000  22.360001  22.360001  22.360001  16900.0   \n2020-07-14  22.680000  22.840000  22.680000  22.840000  22.840000    300.0   \n2020-07-15  23.070000  23.190001  23.070000  23.139999  23.139999   5500.0   \n2020-07-16  23.379999  23.379999  23.139999  23.150000  23.150000   2300.0   \n2020-07-17  23.320000  23.397100  23.219999  23.397100  23.397100   1547.0   \n\n                   VTI                                      ...        FAS  \\\n                  Open        High         Low       Close  ...        Low   \nDate                                                        ...              \n2015-07-17         NaN         NaN         NaN         NaN  ...        NaN   \n2015-07-20  110.050003  110.209999  109.779999  109.970001  ...  34.880001   \n2015-07-21  109.879997  110.040001  109.300003  109.489998  ...  34.750000   \n2015-07-22  109.099998  109.500000  109.000000  109.330002  ...  34.759998   \n2015-07-23  109.470001  109.529999  108.519997  108.699997  ...  34.400002   \n...                ...         ...         ...         ...  ...        ...   \n2020-07-13  162.080002  163.550003  158.880005  159.210007  ...  31.180000   \n2020-07-14  158.500000  161.419998  157.740005  161.300003  ...  30.610001   \n2020-07-15  163.330002  163.639999  161.669998  163.300003  ...  33.020000   \n2020-07-16  162.160004  162.800003  161.679993  162.570007  ...  32.889999   \n2020-07-17  163.089996  163.509995  162.070007  163.190002  ...  32.930698   \n\n                                                  ESPO                        \\\n                Close  Adj Close     Volume       Open       High        Low   \nDate                                                                           \n2015-07-17        NaN        NaN        NaN        NaN        NaN        NaN   \n2015-07-20  35.180000  34.185452  3179900.0        NaN        NaN        NaN   \n2015-07-21  34.939999  33.952240  2453600.0        NaN        NaN        NaN   \n2015-07-22  35.540001  34.535286  2689200.0        NaN        NaN        NaN   \n2015-07-23  34.650002  33.670444  2738800.0        NaN        NaN        NaN   \n...               ...        ...        ...        ...        ...        ...   \n2020-07-13  31.389999  31.389999  6403700.0  56.110001  56.320000  54.000000   \n2020-07-14  32.270000  32.270000  5064100.0  53.689999  54.389999  52.840000   \n2020-07-15  33.980000  33.980000  5975600.0  54.639999  54.639999  53.910000   \n2020-07-16  33.500000  33.500000  3379600.0  53.200001  53.230000  52.709999   \n2020-07-17  33.520000  33.520000  2375303.0  53.320000  53.390202  52.919998   \n\n                                            \n                Close  Adj Close    Volume  \nDate                                        \n2015-07-17        NaN        NaN       NaN  \n2015-07-20        NaN        NaN       NaN  \n2015-07-21        NaN        NaN       NaN  \n2015-07-22        NaN        NaN       NaN  \n2015-07-23        NaN        NaN       NaN  \n...               ...        ...       ...  \n2020-07-13  54.000000  54.000000  209000.0  \n2020-07-14  54.259998  54.259998  186800.0  \n2020-07-15  54.290001  54.290001  129000.0  \n2020-07-16  53.090000  53.090000  121700.0  \n2020-07-17  53.279999  53.279999   78777.0  \n\n[1281 rows x 2556 columns]\n"
    }
   ],
   "source": [
    "import yfinance as yf\n",
    "\n",
    "data: pd.DataFrame = yf.download(tickers=\" \".join(tickers), period=\"5y\", interval=\"1d\", group_by='ticker')\n",
    "print(data)"
   ]
  },
  {
   "cell_type": "markdown",
   "metadata": {},
   "source": [
    "Save output to file to prevent further network requests."
   ]
  },
  {
   "cell_type": "code",
   "execution_count": 4,
   "metadata": {},
   "outputs": [],
   "source": [
    "import os\n",
    "\n",
    "found_tickers: List[str] = data.columns.get_level_values(0).unique().to_list()\n",
    "\n",
    "for found_ticker in found_tickers:\n",
    "    data[found_ticker].to_csv(os.path.join(\"data\", found_ticker + '.csv'))\n"
   ]
  },
  {
   "cell_type": "markdown",
   "metadata": {},
   "source": [
    "Read files back from directory."
   ]
  },
  {
   "cell_type": "code",
   "execution_count": 5,
   "metadata": {},
   "outputs": [
    {
     "output_type": "execute_result",
     "data": {
      "text/plain": "                 AADR       AAXJ  ACCU       ACWI       ACWX         AGG  \\\nDate                                                                       \n2015-07-17        NaN        NaN   NaN        NaN        NaN         NaN   \n2015-07-20  38.463535  55.513893   NaN  54.502068  39.286201   95.445511   \n2015-07-21  38.881107  55.568291   NaN  54.367611  39.207188   95.603722   \n2015-07-22  38.502384  55.015324   NaN  54.071789  38.856030   95.647682   \n2015-07-23  38.599491  54.788696   NaN  53.802868  38.698006   95.920113   \n...               ...        ...   ...        ...        ...         ...   \n2020-07-13  54.959999  74.739998   NaN  75.760002  44.639999  118.480003   \n2020-07-14  55.290001  74.720001   NaN  76.699997  45.099998  118.669998   \n2020-07-15  56.250000  74.830002   NaN  77.459999  45.560001  118.680000   \n2020-07-16  56.040001  73.449997   NaN  76.989998  45.180000  118.760002   \n2020-07-17  56.740002  73.940002   NaN  77.260002  45.369999  118.879997   \n\n                  ALD       AMLP       AND       ARGT  ...        XLF  \\\nDate                                                   ...              \n2015-07-17        NaN        NaN       NaN        NaN  ...        NaN   \n2015-07-20  41.598351  50.861473  7.708112  18.456688  ...  14.356327   \n2015-07-21  41.567722  50.861473  7.659996  18.514244  ...  14.339384   \n2015-07-22  41.567722  49.860271  7.602258  18.322388  ...  14.446692   \n2015-07-23  41.546368  49.893639  7.400172  18.025009  ...  14.322443   \n...               ...        ...       ...        ...  ...        ...   \n2020-07-13        NaN  22.700001       NaN  25.340000  ...  23.559999   \n2020-07-14        NaN  22.600000       NaN  25.299999  ...  23.680000   \n2020-07-15        NaN  23.790001       NaN  25.680000  ...  24.150000   \n2020-07-16        NaN  23.740000       NaN  25.270000  ...  24.150000   \n2020-07-17        NaN  23.650000       NaN  25.280001  ...  23.950001   \n\n                  XLI         XLK        XLP        XLU         XLV  \\\nDate                                                                  \n2015-07-17        NaN         NaN        NaN        NaN         NaN   \n2015-07-20  49.486988   40.371029  43.819538  36.419109   70.830788   \n2015-07-21  48.955448   40.102940  43.714710  36.089794   70.518906   \n2015-07-22  48.739231   39.455826  43.810806  36.250233   70.674850   \n2015-07-23  48.288773   39.372623  43.644825  35.709816   70.417992   \n...               ...         ...        ...        ...         ...   \n2020-07-13  68.290001  105.839996  60.200001  57.830002  101.279999   \n2020-07-14  69.769997  107.059998  61.080002  58.369999  103.290001   \n2020-07-15  71.550003  107.639999  61.130001  58.139999  104.629997   \n2020-07-16  71.570000  106.309998  61.259998  58.880001  104.459999   \n2020-07-17  72.000000  106.830002  61.590000  60.209999  105.889999   \n\n                   XLY         XOP  YPRO       ^GSPTSE  \nDate                                                    \n2015-07-17         NaN         NaN   NaN  14642.799805  \n2015-07-20   73.741211  151.471603   NaN  14425.599609  \n2015-07-21   73.508438  152.373383   NaN  14376.200195  \n2015-07-22   73.862267  149.292114   NaN  14307.099609  \n2015-07-23   73.424622  149.517609   NaN  14265.400391  \n...                ...         ...   ...           ...  \n2020-07-13  131.619995   48.330002   NaN  15639.400391  \n2020-07-14  132.929993   50.389999   NaN  15908.500000  \n2020-07-15  134.830002   51.889999   NaN  16063.299805  \n2020-07-16  134.470001   51.759998   NaN  16024.500000  \n2020-07-17  133.839996   50.610001   NaN  16123.480469  \n\n[1281 rows x 426 columns]",
      "text/html": "<div>\n<style scoped>\n    .dataframe tbody tr th:only-of-type {\n        vertical-align: middle;\n    }\n\n    .dataframe tbody tr th {\n        vertical-align: top;\n    }\n\n    .dataframe thead th {\n        text-align: right;\n    }\n</style>\n<table border=\"1\" class=\"dataframe\">\n  <thead>\n    <tr style=\"text-align: right;\">\n      <th></th>\n      <th>AADR</th>\n      <th>AAXJ</th>\n      <th>ACCU</th>\n      <th>ACWI</th>\n      <th>ACWX</th>\n      <th>AGG</th>\n      <th>ALD</th>\n      <th>AMLP</th>\n      <th>AND</th>\n      <th>ARGT</th>\n      <th>...</th>\n      <th>XLF</th>\n      <th>XLI</th>\n      <th>XLK</th>\n      <th>XLP</th>\n      <th>XLU</th>\n      <th>XLV</th>\n      <th>XLY</th>\n      <th>XOP</th>\n      <th>YPRO</th>\n      <th>^GSPTSE</th>\n    </tr>\n    <tr>\n      <th>Date</th>\n      <th></th>\n      <th></th>\n      <th></th>\n      <th></th>\n      <th></th>\n      <th></th>\n      <th></th>\n      <th></th>\n      <th></th>\n      <th></th>\n      <th></th>\n      <th></th>\n      <th></th>\n      <th></th>\n      <th></th>\n      <th></th>\n      <th></th>\n      <th></th>\n      <th></th>\n      <th></th>\n      <th></th>\n    </tr>\n  </thead>\n  <tbody>\n    <tr>\n      <th>2015-07-17</th>\n      <td>NaN</td>\n      <td>NaN</td>\n      <td>NaN</td>\n      <td>NaN</td>\n      <td>NaN</td>\n      <td>NaN</td>\n      <td>NaN</td>\n      <td>NaN</td>\n      <td>NaN</td>\n      <td>NaN</td>\n      <td>...</td>\n      <td>NaN</td>\n      <td>NaN</td>\n      <td>NaN</td>\n      <td>NaN</td>\n      <td>NaN</td>\n      <td>NaN</td>\n      <td>NaN</td>\n      <td>NaN</td>\n      <td>NaN</td>\n      <td>14642.799805</td>\n    </tr>\n    <tr>\n      <th>2015-07-20</th>\n      <td>38.463535</td>\n      <td>55.513893</td>\n      <td>NaN</td>\n      <td>54.502068</td>\n      <td>39.286201</td>\n      <td>95.445511</td>\n      <td>41.598351</td>\n      <td>50.861473</td>\n      <td>7.708112</td>\n      <td>18.456688</td>\n      <td>...</td>\n      <td>14.356327</td>\n      <td>49.486988</td>\n      <td>40.371029</td>\n      <td>43.819538</td>\n      <td>36.419109</td>\n      <td>70.830788</td>\n      <td>73.741211</td>\n      <td>151.471603</td>\n      <td>NaN</td>\n      <td>14425.599609</td>\n    </tr>\n    <tr>\n      <th>2015-07-21</th>\n      <td>38.881107</td>\n      <td>55.568291</td>\n      <td>NaN</td>\n      <td>54.367611</td>\n      <td>39.207188</td>\n      <td>95.603722</td>\n      <td>41.567722</td>\n      <td>50.861473</td>\n      <td>7.659996</td>\n      <td>18.514244</td>\n      <td>...</td>\n      <td>14.339384</td>\n      <td>48.955448</td>\n      <td>40.102940</td>\n      <td>43.714710</td>\n      <td>36.089794</td>\n      <td>70.518906</td>\n      <td>73.508438</td>\n      <td>152.373383</td>\n      <td>NaN</td>\n      <td>14376.200195</td>\n    </tr>\n    <tr>\n      <th>2015-07-22</th>\n      <td>38.502384</td>\n      <td>55.015324</td>\n      <td>NaN</td>\n      <td>54.071789</td>\n      <td>38.856030</td>\n      <td>95.647682</td>\n      <td>41.567722</td>\n      <td>49.860271</td>\n      <td>7.602258</td>\n      <td>18.322388</td>\n      <td>...</td>\n      <td>14.446692</td>\n      <td>48.739231</td>\n      <td>39.455826</td>\n      <td>43.810806</td>\n      <td>36.250233</td>\n      <td>70.674850</td>\n      <td>73.862267</td>\n      <td>149.292114</td>\n      <td>NaN</td>\n      <td>14307.099609</td>\n    </tr>\n    <tr>\n      <th>2015-07-23</th>\n      <td>38.599491</td>\n      <td>54.788696</td>\n      <td>NaN</td>\n      <td>53.802868</td>\n      <td>38.698006</td>\n      <td>95.920113</td>\n      <td>41.546368</td>\n      <td>49.893639</td>\n      <td>7.400172</td>\n      <td>18.025009</td>\n      <td>...</td>\n      <td>14.322443</td>\n      <td>48.288773</td>\n      <td>39.372623</td>\n      <td>43.644825</td>\n      <td>35.709816</td>\n      <td>70.417992</td>\n      <td>73.424622</td>\n      <td>149.517609</td>\n      <td>NaN</td>\n      <td>14265.400391</td>\n    </tr>\n    <tr>\n      <th>...</th>\n      <td>...</td>\n      <td>...</td>\n      <td>...</td>\n      <td>...</td>\n      <td>...</td>\n      <td>...</td>\n      <td>...</td>\n      <td>...</td>\n      <td>...</td>\n      <td>...</td>\n      <td>...</td>\n      <td>...</td>\n      <td>...</td>\n      <td>...</td>\n      <td>...</td>\n      <td>...</td>\n      <td>...</td>\n      <td>...</td>\n      <td>...</td>\n      <td>...</td>\n      <td>...</td>\n    </tr>\n    <tr>\n      <th>2020-07-13</th>\n      <td>54.959999</td>\n      <td>74.739998</td>\n      <td>NaN</td>\n      <td>75.760002</td>\n      <td>44.639999</td>\n      <td>118.480003</td>\n      <td>NaN</td>\n      <td>22.700001</td>\n      <td>NaN</td>\n      <td>25.340000</td>\n      <td>...</td>\n      <td>23.559999</td>\n      <td>68.290001</td>\n      <td>105.839996</td>\n      <td>60.200001</td>\n      <td>57.830002</td>\n      <td>101.279999</td>\n      <td>131.619995</td>\n      <td>48.330002</td>\n      <td>NaN</td>\n      <td>15639.400391</td>\n    </tr>\n    <tr>\n      <th>2020-07-14</th>\n      <td>55.290001</td>\n      <td>74.720001</td>\n      <td>NaN</td>\n      <td>76.699997</td>\n      <td>45.099998</td>\n      <td>118.669998</td>\n      <td>NaN</td>\n      <td>22.600000</td>\n      <td>NaN</td>\n      <td>25.299999</td>\n      <td>...</td>\n      <td>23.680000</td>\n      <td>69.769997</td>\n      <td>107.059998</td>\n      <td>61.080002</td>\n      <td>58.369999</td>\n      <td>103.290001</td>\n      <td>132.929993</td>\n      <td>50.389999</td>\n      <td>NaN</td>\n      <td>15908.500000</td>\n    </tr>\n    <tr>\n      <th>2020-07-15</th>\n      <td>56.250000</td>\n      <td>74.830002</td>\n      <td>NaN</td>\n      <td>77.459999</td>\n      <td>45.560001</td>\n      <td>118.680000</td>\n      <td>NaN</td>\n      <td>23.790001</td>\n      <td>NaN</td>\n      <td>25.680000</td>\n      <td>...</td>\n      <td>24.150000</td>\n      <td>71.550003</td>\n      <td>107.639999</td>\n      <td>61.130001</td>\n      <td>58.139999</td>\n      <td>104.629997</td>\n      <td>134.830002</td>\n      <td>51.889999</td>\n      <td>NaN</td>\n      <td>16063.299805</td>\n    </tr>\n    <tr>\n      <th>2020-07-16</th>\n      <td>56.040001</td>\n      <td>73.449997</td>\n      <td>NaN</td>\n      <td>76.989998</td>\n      <td>45.180000</td>\n      <td>118.760002</td>\n      <td>NaN</td>\n      <td>23.740000</td>\n      <td>NaN</td>\n      <td>25.270000</td>\n      <td>...</td>\n      <td>24.150000</td>\n      <td>71.570000</td>\n      <td>106.309998</td>\n      <td>61.259998</td>\n      <td>58.880001</td>\n      <td>104.459999</td>\n      <td>134.470001</td>\n      <td>51.759998</td>\n      <td>NaN</td>\n      <td>16024.500000</td>\n    </tr>\n    <tr>\n      <th>2020-07-17</th>\n      <td>56.740002</td>\n      <td>73.940002</td>\n      <td>NaN</td>\n      <td>77.260002</td>\n      <td>45.369999</td>\n      <td>118.879997</td>\n      <td>NaN</td>\n      <td>23.650000</td>\n      <td>NaN</td>\n      <td>25.280001</td>\n      <td>...</td>\n      <td>23.950001</td>\n      <td>72.000000</td>\n      <td>106.830002</td>\n      <td>61.590000</td>\n      <td>60.209999</td>\n      <td>105.889999</td>\n      <td>133.839996</td>\n      <td>50.610001</td>\n      <td>NaN</td>\n      <td>16123.480469</td>\n    </tr>\n  </tbody>\n</table>\n<p>1281 rows × 426 columns</p>\n</div>"
     },
     "metadata": {},
     "execution_count": 5
    }
   ],
   "source": [
    "import glob\n",
    "\n",
    "csv_paths: List[str] = glob.glob(os.path.join(\"data\", '*.csv'))\n",
    "prices_df: pd.DataFrame = None\n",
    "\n",
    "for csv_path in csv_paths:\n",
    "    (ticker_id, extension) = csv_path.split(\".\", 1)\n",
    "    df: pd.DataFrame = pd.read_csv(csv_path, index_col='Date', usecols=['Date', 'Adj Close'], header=0, parse_dates=True)\n",
    "    df = df.rename(columns={'Adj Close': os.path.split(ticker_id)[1]})\n",
    "\n",
    "    if prices_df is not None:\n",
    "        prices_df = prices_df.join(df)\n",
    "    else:\n",
    "        prices_df = df\n",
    "\n",
    "prices_df = prices_df.sort_values(by='Date', axis=0)\n",
    "prices_df"
   ]
  },
  {
   "cell_type": "markdown",
   "metadata": {},
   "source": [
    "Calculate price returns"
   ]
  },
  {
   "cell_type": "code",
   "execution_count": 197,
   "metadata": {},
   "outputs": [
    {
     "output_type": "execute_result",
     "data": {
      "text/plain": "                AADR      AAXJ      ACWI      ACWX       AGG      ARGT  \\\nDate                                                                     \n2015-07-17       NaN       NaN       NaN       NaN       NaN       NaN   \n2015-07-20       NaN       NaN       NaN       NaN       NaN       NaN   \n2015-07-21  0.010856  0.000980 -0.002467 -0.002011  0.001658  0.003118   \n2015-07-22 -0.009741 -0.009951 -0.005441 -0.008956  0.000460 -0.010363   \n2015-07-23  0.002522 -0.004119 -0.004973 -0.004067  0.002848 -0.016230   \n...              ...       ...       ...       ...       ...       ...   \n2020-07-13 -0.008658 -0.004661 -0.008766 -0.006455 -0.000084 -0.016686   \n2020-07-14  0.006004 -0.000268  0.012408  0.010305  0.001604 -0.001579   \n2020-07-15  0.017363  0.001472  0.009909  0.010200  0.000084  0.015020   \n2020-07-16 -0.003733 -0.018442 -0.006068 -0.008341  0.000674 -0.015966   \n2020-07-17  0.012491  0.006671  0.003507  0.004205  0.001010  0.000396   \n\n                ARKG      ARKK      ARKQ      ARKW  ...       VYM       XBI  \\\nDate                                                ...                       \n2015-07-17       NaN       NaN       NaN       NaN  ...       NaN       NaN   \n2015-07-20       NaN       NaN       NaN       NaN  ...       NaN       NaN   \n2015-07-21       NaN -0.003645       NaN -0.001255  ... -0.005674 -0.016905   \n2015-07-22       NaN -0.010059       NaN -0.005444  ... -0.002927  0.004468   \n2015-07-23       NaN  0.006928       NaN  0.009263  ... -0.005283 -0.009419   \n...              ...       ...       ...       ...  ...       ...       ...   \n2020-07-13 -0.021357 -0.033997 -0.012898 -0.042317  ...  0.001643 -0.025844   \n2020-07-14  0.022923  0.008702  0.007325  0.003861  ...  0.012743  0.025458   \n2020-07-15  0.032180  0.026770  0.020440  0.011432  ...  0.012458  0.021254   \n2020-07-16 -0.026487 -0.014457 -0.007897 -0.010563  ...  0.001600 -0.008018   \n2020-07-17  0.019447  0.011409  0.014754  0.007153  ...  0.001966  0.020980   \n\n                 XHB       XLB       XLI       XLK       XLP       XLU  \\\nDate                                                                     \n2015-07-17       NaN       NaN       NaN       NaN       NaN       NaN   \n2015-07-20       NaN       NaN       NaN       NaN       NaN       NaN   \n2015-07-21 -0.001642 -0.006136 -0.010741 -0.006641 -0.002392 -0.009042   \n2015-07-22  0.019463 -0.004258 -0.004417 -0.016136  0.002198  0.004446   \n2015-07-23 -0.003227 -0.014539 -0.009242 -0.002109 -0.003789 -0.014908   \n...              ...       ...       ...       ...       ...       ...   \n2020-07-13 -0.013955  0.000000  0.004117 -0.020725 -0.001493  0.001039   \n2020-07-14  0.032413  0.025177  0.021672  0.011527  0.014618  0.009338   \n2020-07-15  0.026973  0.016821  0.025512  0.005418  0.000819 -0.003940   \n2020-07-16  0.011195  0.003309  0.000279 -0.012356  0.002127  0.012728   \n2020-07-17  0.001916  0.008409  0.006008  0.004891  0.005387  0.022588   \n\n                 XLV   ^GSPTSE  \nDate                            \n2015-07-17       NaN       NaN  \n2015-07-20       NaN -0.014833  \n2015-07-21 -0.004403 -0.003424  \n2015-07-22  0.002211 -0.004807  \n2015-07-23 -0.003634 -0.002915  \n...              ...       ...  \n2020-07-13  0.005660 -0.004735  \n2020-07-14  0.019846  0.017207  \n2020-07-15  0.012973  0.009731  \n2020-07-16 -0.001625 -0.002415  \n2020-07-17  0.013689  0.006177  \n\n[1281 rows x 263 columns]",
      "text/html": "<div>\n<style scoped>\n    .dataframe tbody tr th:only-of-type {\n        vertical-align: middle;\n    }\n\n    .dataframe tbody tr th {\n        vertical-align: top;\n    }\n\n    .dataframe thead th {\n        text-align: right;\n    }\n</style>\n<table border=\"1\" class=\"dataframe\">\n  <thead>\n    <tr style=\"text-align: right;\">\n      <th></th>\n      <th>AADR</th>\n      <th>AAXJ</th>\n      <th>ACWI</th>\n      <th>ACWX</th>\n      <th>AGG</th>\n      <th>ARGT</th>\n      <th>ARKG</th>\n      <th>ARKK</th>\n      <th>ARKQ</th>\n      <th>ARKW</th>\n      <th>...</th>\n      <th>VYM</th>\n      <th>XBI</th>\n      <th>XHB</th>\n      <th>XLB</th>\n      <th>XLI</th>\n      <th>XLK</th>\n      <th>XLP</th>\n      <th>XLU</th>\n      <th>XLV</th>\n      <th>^GSPTSE</th>\n    </tr>\n    <tr>\n      <th>Date</th>\n      <th></th>\n      <th></th>\n      <th></th>\n      <th></th>\n      <th></th>\n      <th></th>\n      <th></th>\n      <th></th>\n      <th></th>\n      <th></th>\n      <th></th>\n      <th></th>\n      <th></th>\n      <th></th>\n      <th></th>\n      <th></th>\n      <th></th>\n      <th></th>\n      <th></th>\n      <th></th>\n      <th></th>\n    </tr>\n  </thead>\n  <tbody>\n    <tr>\n      <th>2015-07-17</th>\n      <td>NaN</td>\n      <td>NaN</td>\n      <td>NaN</td>\n      <td>NaN</td>\n      <td>NaN</td>\n      <td>NaN</td>\n      <td>NaN</td>\n      <td>NaN</td>\n      <td>NaN</td>\n      <td>NaN</td>\n      <td>...</td>\n      <td>NaN</td>\n      <td>NaN</td>\n      <td>NaN</td>\n      <td>NaN</td>\n      <td>NaN</td>\n      <td>NaN</td>\n      <td>NaN</td>\n      <td>NaN</td>\n      <td>NaN</td>\n      <td>NaN</td>\n    </tr>\n    <tr>\n      <th>2015-07-20</th>\n      <td>NaN</td>\n      <td>NaN</td>\n      <td>NaN</td>\n      <td>NaN</td>\n      <td>NaN</td>\n      <td>NaN</td>\n      <td>NaN</td>\n      <td>NaN</td>\n      <td>NaN</td>\n      <td>NaN</td>\n      <td>...</td>\n      <td>NaN</td>\n      <td>NaN</td>\n      <td>NaN</td>\n      <td>NaN</td>\n      <td>NaN</td>\n      <td>NaN</td>\n      <td>NaN</td>\n      <td>NaN</td>\n      <td>NaN</td>\n      <td>-0.014833</td>\n    </tr>\n    <tr>\n      <th>2015-07-21</th>\n      <td>0.010856</td>\n      <td>0.000980</td>\n      <td>-0.002467</td>\n      <td>-0.002011</td>\n      <td>0.001658</td>\n      <td>0.003118</td>\n      <td>NaN</td>\n      <td>-0.003645</td>\n      <td>NaN</td>\n      <td>-0.001255</td>\n      <td>...</td>\n      <td>-0.005674</td>\n      <td>-0.016905</td>\n      <td>-0.001642</td>\n      <td>-0.006136</td>\n      <td>-0.010741</td>\n      <td>-0.006641</td>\n      <td>-0.002392</td>\n      <td>-0.009042</td>\n      <td>-0.004403</td>\n      <td>-0.003424</td>\n    </tr>\n    <tr>\n      <th>2015-07-22</th>\n      <td>-0.009741</td>\n      <td>-0.009951</td>\n      <td>-0.005441</td>\n      <td>-0.008956</td>\n      <td>0.000460</td>\n      <td>-0.010363</td>\n      <td>NaN</td>\n      <td>-0.010059</td>\n      <td>NaN</td>\n      <td>-0.005444</td>\n      <td>...</td>\n      <td>-0.002927</td>\n      <td>0.004468</td>\n      <td>0.019463</td>\n      <td>-0.004258</td>\n      <td>-0.004417</td>\n      <td>-0.016136</td>\n      <td>0.002198</td>\n      <td>0.004446</td>\n      <td>0.002211</td>\n      <td>-0.004807</td>\n    </tr>\n    <tr>\n      <th>2015-07-23</th>\n      <td>0.002522</td>\n      <td>-0.004119</td>\n      <td>-0.004973</td>\n      <td>-0.004067</td>\n      <td>0.002848</td>\n      <td>-0.016230</td>\n      <td>NaN</td>\n      <td>0.006928</td>\n      <td>NaN</td>\n      <td>0.009263</td>\n      <td>...</td>\n      <td>-0.005283</td>\n      <td>-0.009419</td>\n      <td>-0.003227</td>\n      <td>-0.014539</td>\n      <td>-0.009242</td>\n      <td>-0.002109</td>\n      <td>-0.003789</td>\n      <td>-0.014908</td>\n      <td>-0.003634</td>\n      <td>-0.002915</td>\n    </tr>\n    <tr>\n      <th>...</th>\n      <td>...</td>\n      <td>...</td>\n      <td>...</td>\n      <td>...</td>\n      <td>...</td>\n      <td>...</td>\n      <td>...</td>\n      <td>...</td>\n      <td>...</td>\n      <td>...</td>\n      <td>...</td>\n      <td>...</td>\n      <td>...</td>\n      <td>...</td>\n      <td>...</td>\n      <td>...</td>\n      <td>...</td>\n      <td>...</td>\n      <td>...</td>\n      <td>...</td>\n      <td>...</td>\n    </tr>\n    <tr>\n      <th>2020-07-13</th>\n      <td>-0.008658</td>\n      <td>-0.004661</td>\n      <td>-0.008766</td>\n      <td>-0.006455</td>\n      <td>-0.000084</td>\n      <td>-0.016686</td>\n      <td>-0.021357</td>\n      <td>-0.033997</td>\n      <td>-0.012898</td>\n      <td>-0.042317</td>\n      <td>...</td>\n      <td>0.001643</td>\n      <td>-0.025844</td>\n      <td>-0.013955</td>\n      <td>0.000000</td>\n      <td>0.004117</td>\n      <td>-0.020725</td>\n      <td>-0.001493</td>\n      <td>0.001039</td>\n      <td>0.005660</td>\n      <td>-0.004735</td>\n    </tr>\n    <tr>\n      <th>2020-07-14</th>\n      <td>0.006004</td>\n      <td>-0.000268</td>\n      <td>0.012408</td>\n      <td>0.010305</td>\n      <td>0.001604</td>\n      <td>-0.001579</td>\n      <td>0.022923</td>\n      <td>0.008702</td>\n      <td>0.007325</td>\n      <td>0.003861</td>\n      <td>...</td>\n      <td>0.012743</td>\n      <td>0.025458</td>\n      <td>0.032413</td>\n      <td>0.025177</td>\n      <td>0.021672</td>\n      <td>0.011527</td>\n      <td>0.014618</td>\n      <td>0.009338</td>\n      <td>0.019846</td>\n      <td>0.017207</td>\n    </tr>\n    <tr>\n      <th>2020-07-15</th>\n      <td>0.017363</td>\n      <td>0.001472</td>\n      <td>0.009909</td>\n      <td>0.010200</td>\n      <td>0.000084</td>\n      <td>0.015020</td>\n      <td>0.032180</td>\n      <td>0.026770</td>\n      <td>0.020440</td>\n      <td>0.011432</td>\n      <td>...</td>\n      <td>0.012458</td>\n      <td>0.021254</td>\n      <td>0.026973</td>\n      <td>0.016821</td>\n      <td>0.025512</td>\n      <td>0.005418</td>\n      <td>0.000819</td>\n      <td>-0.003940</td>\n      <td>0.012973</td>\n      <td>0.009731</td>\n    </tr>\n    <tr>\n      <th>2020-07-16</th>\n      <td>-0.003733</td>\n      <td>-0.018442</td>\n      <td>-0.006068</td>\n      <td>-0.008341</td>\n      <td>0.000674</td>\n      <td>-0.015966</td>\n      <td>-0.026487</td>\n      <td>-0.014457</td>\n      <td>-0.007897</td>\n      <td>-0.010563</td>\n      <td>...</td>\n      <td>0.001600</td>\n      <td>-0.008018</td>\n      <td>0.011195</td>\n      <td>0.003309</td>\n      <td>0.000279</td>\n      <td>-0.012356</td>\n      <td>0.002127</td>\n      <td>0.012728</td>\n      <td>-0.001625</td>\n      <td>-0.002415</td>\n    </tr>\n    <tr>\n      <th>2020-07-17</th>\n      <td>0.012491</td>\n      <td>0.006671</td>\n      <td>0.003507</td>\n      <td>0.004205</td>\n      <td>0.001010</td>\n      <td>0.000396</td>\n      <td>0.019447</td>\n      <td>0.011409</td>\n      <td>0.014754</td>\n      <td>0.007153</td>\n      <td>...</td>\n      <td>0.001966</td>\n      <td>0.020980</td>\n      <td>0.001916</td>\n      <td>0.008409</td>\n      <td>0.006008</td>\n      <td>0.004891</td>\n      <td>0.005387</td>\n      <td>0.022588</td>\n      <td>0.013689</td>\n      <td>0.006177</td>\n    </tr>\n  </tbody>\n</table>\n<p>1281 rows × 263 columns</p>\n</div>"
     },
     "metadata": {},
     "execution_count": 197
    }
   ],
   "source": [
    "returns_df = prices_df.pct_change().dropna(axis='columns', how='all')\n",
    "# drop any security with a most recent price of <= 0\n",
    "returns_df = returns_df.drop(returns_df.columns[returns_df.iloc[-1,:] <= 0], axis=1)\n",
    "found_tickers = returns_df.columns\n",
    "returns_df"
   ]
  },
  {
   "cell_type": "markdown",
   "metadata": {},
   "source": [
    "Calucate expected return using geomean from price return"
   ]
  },
  {
   "cell_type": "code",
   "execution_count": 198,
   "metadata": {},
   "outputs": [
    {
     "output_type": "execute_result",
     "data": {
      "text/plain": "ticker          AADR      AAXJ      ACWI      ACWX       AGG      ARGT  \\\nexp_return  0.000304  0.000224  0.000273  0.000113  0.000172  0.000246   \n\nticker          ARKG      ARKK      ARKQ      ARKW  ...       VYM       XBI  \\\nexp_return  0.003574  0.001073  0.002444  0.001204  ...  0.000259  0.000222   \n\nticker           XHB       XLB       XLI       XLK       XLP       XLU  \\\nexp_return  0.000233  0.000283  0.000293  0.000761  0.000266  0.000393   \n\nticker           XLV   ^GSPTSE  \nexp_return  0.000314  0.000075  \n\n[1 rows x 263 columns]",
      "text/html": "<div>\n<style scoped>\n    .dataframe tbody tr th:only-of-type {\n        vertical-align: middle;\n    }\n\n    .dataframe tbody tr th {\n        vertical-align: top;\n    }\n\n    .dataframe thead th {\n        text-align: right;\n    }\n</style>\n<table border=\"1\" class=\"dataframe\">\n  <thead>\n    <tr style=\"text-align: right;\">\n      <th>ticker</th>\n      <th>AADR</th>\n      <th>AAXJ</th>\n      <th>ACWI</th>\n      <th>ACWX</th>\n      <th>AGG</th>\n      <th>ARGT</th>\n      <th>ARKG</th>\n      <th>ARKK</th>\n      <th>ARKQ</th>\n      <th>ARKW</th>\n      <th>...</th>\n      <th>VYM</th>\n      <th>XBI</th>\n      <th>XHB</th>\n      <th>XLB</th>\n      <th>XLI</th>\n      <th>XLK</th>\n      <th>XLP</th>\n      <th>XLU</th>\n      <th>XLV</th>\n      <th>^GSPTSE</th>\n    </tr>\n  </thead>\n  <tbody>\n    <tr>\n      <th>exp_return</th>\n      <td>0.000304</td>\n      <td>0.000224</td>\n      <td>0.000273</td>\n      <td>0.000113</td>\n      <td>0.000172</td>\n      <td>0.000246</td>\n      <td>0.003574</td>\n      <td>0.001073</td>\n      <td>0.002444</td>\n      <td>0.001204</td>\n      <td>...</td>\n      <td>0.000259</td>\n      <td>0.000222</td>\n      <td>0.000233</td>\n      <td>0.000283</td>\n      <td>0.000293</td>\n      <td>0.000761</td>\n      <td>0.000266</td>\n      <td>0.000393</td>\n      <td>0.000314</td>\n      <td>0.000075</td>\n    </tr>\n  </tbody>\n</table>\n<p>1 rows × 263 columns</p>\n</div>"
     },
     "metadata": {},
     "execution_count": 198
    }
   ],
   "source": [
    "from scipy.stats import gmean\n",
    "\n",
    "exp_return_df = pd.DataFrame()\n",
    "for found_ticker in found_tickers:\n",
    "    returns_sr = returns_df[pd.notnull(returns_df[found_ticker])][found_ticker]\n",
    "    if exp_return_df.empty:\n",
    "        exp_return_df = pd.DataFrame(data={\n",
    "            'ticker': found_ticker,\n",
    "            'exp_return': [0] if returns_sr.empty else [gmean(returns_sr + 1) - 1]\n",
    "        })\n",
    "    else:\n",
    "        exp_return_df = pd.concat([\n",
    "            exp_return_df,\n",
    "            pd.DataFrame(data={\n",
    "                'ticker': found_ticker,\n",
    "                'exp_return': [0] if returns_sr.empty else [gmean(returns_sr + 1) - 1]\n",
    "            })\n",
    "        ])\n",
    "\n",
    "exp_return_df = exp_return_df.set_index('ticker').T\n",
    "exp_return_df"
   ]
  },
  {
   "cell_type": "markdown",
   "metadata": {},
   "source": [
    "Calculate expected covariance using price return"
   ]
  },
  {
   "cell_type": "code",
   "execution_count": 199,
   "metadata": {},
   "outputs": [
    {
     "output_type": "execute_result",
     "data": {
      "text/plain": "             AADR          AAXJ          ACWI      ACWX           AGG  \\\nAADR     0.000192  1.338585e-04  1.234416e-04  0.000128  8.309580e-06   \nAAXJ     0.000134  1.745944e-04  1.334799e-04  0.000143  9.793756e-07   \nACWI     0.000123  1.334799e-04  1.345097e-04  0.000133  5.728478e-07   \nACWX     0.000128  1.429719e-04  1.329849e-04  0.000141  2.242652e-06   \nAGG      0.000008  9.793756e-07  5.728478e-07  0.000002  8.304214e-06   \n...           ...           ...           ...       ...           ...   \nXLK      0.000144  1.521660e-04  1.556520e-04  0.000145 -5.934189e-07   \nXLP      0.000073  7.732490e-05  9.117048e-05  0.000083  1.209440e-06   \nXLU      0.000071  7.463142e-05  9.219039e-05  0.000084  5.157215e-06   \nXLV      0.000101  1.062736e-04  1.168555e-04  0.000106 -1.405350e-06   \n^GSPTSE  0.000107  1.010525e-04  1.057615e-04  0.000107  4.701471e-06   \n\n             ARGT      ARKG      ARKK      ARKQ      ARKW  ...           VYM  \\\nAADR     0.000168  0.000736  0.000179  0.000694  0.000166  ...  1.088189e-04   \nAAXJ     0.000160  0.000637  0.000171  0.000609  0.000165  ...  1.164311e-04   \nACWI     0.000151  0.000713  0.000168  0.000699  0.000159  ...  1.279359e-04   \nACWX     0.000157  0.000700  0.000162  0.000673  0.000153  ...  1.205625e-04   \nAGG      0.000004  0.000054  0.000004  0.000051  0.000003  ... -6.234796e-07   \n...           ...       ...       ...       ...       ...  ...           ...   \nXLK      0.000166  0.000830  0.000216  0.000809  0.000213  ...  1.477942e-04   \nXLP      0.000088  0.000500  0.000091  0.000478  0.000085  ...  1.003969e-04   \nXLU      0.000080  0.000679  0.000084  0.000632  0.000079  ...  1.061285e-04   \nXLV      0.000119  0.000628  0.000153  0.000567  0.000136  ...  1.188963e-04   \n^GSPTSE  0.000131  0.000714  0.000132  0.000664  0.000123  ...  1.032291e-04   \n\n                  XBI       XHB           XLB           XLI           XLK  \\\nAADR     1.547315e-04  0.000146  1.333147e-04  1.291264e-04  1.439270e-04   \nAAXJ     1.546401e-04  0.000144  1.387192e-04  1.356668e-04  1.521660e-04   \nACWI     1.606541e-04  0.000159  1.453079e-04  1.466477e-04  1.556520e-04   \nACWX     1.502134e-04  0.000153  1.422344e-04  1.404634e-04  1.448434e-04   \nAGG     -5.160818e-07  0.000005 -6.544315e-08 -2.346715e-07 -5.934189e-07   \n...               ...       ...           ...           ...           ...   \nXLK      2.005048e-04  0.000177  1.621574e-04  1.659472e-04  2.139686e-04   \nXLP      8.804109e-05  0.000106  9.778293e-05  1.006307e-04  1.065206e-04   \nXLU      6.993864e-05  0.000117  1.009148e-04  1.037272e-04  1.023467e-04   \nXLV      1.863553e-04  0.000135  1.249683e-04  1.275189e-04  1.407978e-04   \n^GSPTSE  1.214728e-04  0.000135  1.239007e-04  1.206998e-04  1.176517e-04   \n\n              XLP       XLU       XLV   ^GSPTSE  \nAADR     0.000073  0.000071  0.000101  0.000107  \nAAXJ     0.000077  0.000075  0.000106  0.000101  \nACWI     0.000091  0.000092  0.000117  0.000106  \nACWX     0.000083  0.000084  0.000106  0.000107  \nAGG      0.000001  0.000005 -0.000001  0.000005  \n...           ...       ...       ...       ...  \nXLK      0.000107  0.000102  0.000141  0.000118  \nXLP      0.000105  0.000101  0.000089  0.000070  \nXLU      0.000101  0.000172  0.000090  0.000078  \nXLV      0.000089  0.000090  0.000143  0.000088  \n^GSPTSE  0.000070  0.000078  0.000088  0.000119  \n\n[263 rows x 263 columns]",
      "text/html": "<div>\n<style scoped>\n    .dataframe tbody tr th:only-of-type {\n        vertical-align: middle;\n    }\n\n    .dataframe tbody tr th {\n        vertical-align: top;\n    }\n\n    .dataframe thead th {\n        text-align: right;\n    }\n</style>\n<table border=\"1\" class=\"dataframe\">\n  <thead>\n    <tr style=\"text-align: right;\">\n      <th></th>\n      <th>AADR</th>\n      <th>AAXJ</th>\n      <th>ACWI</th>\n      <th>ACWX</th>\n      <th>AGG</th>\n      <th>ARGT</th>\n      <th>ARKG</th>\n      <th>ARKK</th>\n      <th>ARKQ</th>\n      <th>ARKW</th>\n      <th>...</th>\n      <th>VYM</th>\n      <th>XBI</th>\n      <th>XHB</th>\n      <th>XLB</th>\n      <th>XLI</th>\n      <th>XLK</th>\n      <th>XLP</th>\n      <th>XLU</th>\n      <th>XLV</th>\n      <th>^GSPTSE</th>\n    </tr>\n  </thead>\n  <tbody>\n    <tr>\n      <th>AADR</th>\n      <td>0.000192</td>\n      <td>1.338585e-04</td>\n      <td>1.234416e-04</td>\n      <td>0.000128</td>\n      <td>8.309580e-06</td>\n      <td>0.000168</td>\n      <td>0.000736</td>\n      <td>0.000179</td>\n      <td>0.000694</td>\n      <td>0.000166</td>\n      <td>...</td>\n      <td>1.088189e-04</td>\n      <td>1.547315e-04</td>\n      <td>0.000146</td>\n      <td>1.333147e-04</td>\n      <td>1.291264e-04</td>\n      <td>1.439270e-04</td>\n      <td>0.000073</td>\n      <td>0.000071</td>\n      <td>0.000101</td>\n      <td>0.000107</td>\n    </tr>\n    <tr>\n      <th>AAXJ</th>\n      <td>0.000134</td>\n      <td>1.745944e-04</td>\n      <td>1.334799e-04</td>\n      <td>0.000143</td>\n      <td>9.793756e-07</td>\n      <td>0.000160</td>\n      <td>0.000637</td>\n      <td>0.000171</td>\n      <td>0.000609</td>\n      <td>0.000165</td>\n      <td>...</td>\n      <td>1.164311e-04</td>\n      <td>1.546401e-04</td>\n      <td>0.000144</td>\n      <td>1.387192e-04</td>\n      <td>1.356668e-04</td>\n      <td>1.521660e-04</td>\n      <td>0.000077</td>\n      <td>0.000075</td>\n      <td>0.000106</td>\n      <td>0.000101</td>\n    </tr>\n    <tr>\n      <th>ACWI</th>\n      <td>0.000123</td>\n      <td>1.334799e-04</td>\n      <td>1.345097e-04</td>\n      <td>0.000133</td>\n      <td>5.728478e-07</td>\n      <td>0.000151</td>\n      <td>0.000713</td>\n      <td>0.000168</td>\n      <td>0.000699</td>\n      <td>0.000159</td>\n      <td>...</td>\n      <td>1.279359e-04</td>\n      <td>1.606541e-04</td>\n      <td>0.000159</td>\n      <td>1.453079e-04</td>\n      <td>1.466477e-04</td>\n      <td>1.556520e-04</td>\n      <td>0.000091</td>\n      <td>0.000092</td>\n      <td>0.000117</td>\n      <td>0.000106</td>\n    </tr>\n    <tr>\n      <th>ACWX</th>\n      <td>0.000128</td>\n      <td>1.429719e-04</td>\n      <td>1.329849e-04</td>\n      <td>0.000141</td>\n      <td>2.242652e-06</td>\n      <td>0.000157</td>\n      <td>0.000700</td>\n      <td>0.000162</td>\n      <td>0.000673</td>\n      <td>0.000153</td>\n      <td>...</td>\n      <td>1.205625e-04</td>\n      <td>1.502134e-04</td>\n      <td>0.000153</td>\n      <td>1.422344e-04</td>\n      <td>1.404634e-04</td>\n      <td>1.448434e-04</td>\n      <td>0.000083</td>\n      <td>0.000084</td>\n      <td>0.000106</td>\n      <td>0.000107</td>\n    </tr>\n    <tr>\n      <th>AGG</th>\n      <td>0.000008</td>\n      <td>9.793756e-07</td>\n      <td>5.728478e-07</td>\n      <td>0.000002</td>\n      <td>8.304214e-06</td>\n      <td>0.000004</td>\n      <td>0.000054</td>\n      <td>0.000004</td>\n      <td>0.000051</td>\n      <td>0.000003</td>\n      <td>...</td>\n      <td>-6.234796e-07</td>\n      <td>-5.160818e-07</td>\n      <td>0.000005</td>\n      <td>-6.544315e-08</td>\n      <td>-2.346715e-07</td>\n      <td>-5.934189e-07</td>\n      <td>0.000001</td>\n      <td>0.000005</td>\n      <td>-0.000001</td>\n      <td>0.000005</td>\n    </tr>\n    <tr>\n      <th>...</th>\n      <td>...</td>\n      <td>...</td>\n      <td>...</td>\n      <td>...</td>\n      <td>...</td>\n      <td>...</td>\n      <td>...</td>\n      <td>...</td>\n      <td>...</td>\n      <td>...</td>\n      <td>...</td>\n      <td>...</td>\n      <td>...</td>\n      <td>...</td>\n      <td>...</td>\n      <td>...</td>\n      <td>...</td>\n      <td>...</td>\n      <td>...</td>\n      <td>...</td>\n      <td>...</td>\n    </tr>\n    <tr>\n      <th>XLK</th>\n      <td>0.000144</td>\n      <td>1.521660e-04</td>\n      <td>1.556520e-04</td>\n      <td>0.000145</td>\n      <td>-5.934189e-07</td>\n      <td>0.000166</td>\n      <td>0.000830</td>\n      <td>0.000216</td>\n      <td>0.000809</td>\n      <td>0.000213</td>\n      <td>...</td>\n      <td>1.477942e-04</td>\n      <td>2.005048e-04</td>\n      <td>0.000177</td>\n      <td>1.621574e-04</td>\n      <td>1.659472e-04</td>\n      <td>2.139686e-04</td>\n      <td>0.000107</td>\n      <td>0.000102</td>\n      <td>0.000141</td>\n      <td>0.000118</td>\n    </tr>\n    <tr>\n      <th>XLP</th>\n      <td>0.000073</td>\n      <td>7.732490e-05</td>\n      <td>9.117048e-05</td>\n      <td>0.000083</td>\n      <td>1.209440e-06</td>\n      <td>0.000088</td>\n      <td>0.000500</td>\n      <td>0.000091</td>\n      <td>0.000478</td>\n      <td>0.000085</td>\n      <td>...</td>\n      <td>1.003969e-04</td>\n      <td>8.804109e-05</td>\n      <td>0.000106</td>\n      <td>9.778293e-05</td>\n      <td>1.006307e-04</td>\n      <td>1.065206e-04</td>\n      <td>0.000105</td>\n      <td>0.000101</td>\n      <td>0.000089</td>\n      <td>0.000070</td>\n    </tr>\n    <tr>\n      <th>XLU</th>\n      <td>0.000071</td>\n      <td>7.463142e-05</td>\n      <td>9.219039e-05</td>\n      <td>0.000084</td>\n      <td>5.157215e-06</td>\n      <td>0.000080</td>\n      <td>0.000679</td>\n      <td>0.000084</td>\n      <td>0.000632</td>\n      <td>0.000079</td>\n      <td>...</td>\n      <td>1.061285e-04</td>\n      <td>6.993864e-05</td>\n      <td>0.000117</td>\n      <td>1.009148e-04</td>\n      <td>1.037272e-04</td>\n      <td>1.023467e-04</td>\n      <td>0.000101</td>\n      <td>0.000172</td>\n      <td>0.000090</td>\n      <td>0.000078</td>\n    </tr>\n    <tr>\n      <th>XLV</th>\n      <td>0.000101</td>\n      <td>1.062736e-04</td>\n      <td>1.168555e-04</td>\n      <td>0.000106</td>\n      <td>-1.405350e-06</td>\n      <td>0.000119</td>\n      <td>0.000628</td>\n      <td>0.000153</td>\n      <td>0.000567</td>\n      <td>0.000136</td>\n      <td>...</td>\n      <td>1.188963e-04</td>\n      <td>1.863553e-04</td>\n      <td>0.000135</td>\n      <td>1.249683e-04</td>\n      <td>1.275189e-04</td>\n      <td>1.407978e-04</td>\n      <td>0.000089</td>\n      <td>0.000090</td>\n      <td>0.000143</td>\n      <td>0.000088</td>\n    </tr>\n    <tr>\n      <th>^GSPTSE</th>\n      <td>0.000107</td>\n      <td>1.010525e-04</td>\n      <td>1.057615e-04</td>\n      <td>0.000107</td>\n      <td>4.701471e-06</td>\n      <td>0.000131</td>\n      <td>0.000714</td>\n      <td>0.000132</td>\n      <td>0.000664</td>\n      <td>0.000123</td>\n      <td>...</td>\n      <td>1.032291e-04</td>\n      <td>1.214728e-04</td>\n      <td>0.000135</td>\n      <td>1.239007e-04</td>\n      <td>1.206998e-04</td>\n      <td>1.176517e-04</td>\n      <td>0.000070</td>\n      <td>0.000078</td>\n      <td>0.000088</td>\n      <td>0.000119</td>\n    </tr>\n  </tbody>\n</table>\n<p>263 rows × 263 columns</p>\n</div>"
     },
     "metadata": {},
     "execution_count": 199
    }
   ],
   "source": [
    "covar_df = returns_df.cov()\n",
    "covar_df"
   ]
  },
  {
   "cell_type": "markdown",
   "metadata": {},
   "source": [
    "Reorder expected return to line up with covar matrix"
   ]
  },
  {
   "cell_type": "code",
   "execution_count": 200,
   "metadata": {},
   "outputs": [
    {
     "output_type": "execute_result",
     "data": {
      "text/plain": "ticker          AADR      AAXJ      ACWI      ACWX       AGG      ARGT  \\\nexp_return  0.000304  0.000224  0.000273  0.000113  0.000172  0.000246   \n\nticker          ARKG      ARKK      ARKQ      ARKW  ...       VYM       XBI  \\\nexp_return  0.003574  0.001073  0.002444  0.001204  ...  0.000259  0.000222   \n\nticker           XHB       XLB       XLI       XLK       XLP       XLU  \\\nexp_return  0.000233  0.000283  0.000293  0.000761  0.000266  0.000393   \n\nticker           XLV   ^GSPTSE  \nexp_return  0.000314  0.000075  \n\n[1 rows x 263 columns]",
      "text/html": "<div>\n<style scoped>\n    .dataframe tbody tr th:only-of-type {\n        vertical-align: middle;\n    }\n\n    .dataframe tbody tr th {\n        vertical-align: top;\n    }\n\n    .dataframe thead th {\n        text-align: right;\n    }\n</style>\n<table border=\"1\" class=\"dataframe\">\n  <thead>\n    <tr style=\"text-align: right;\">\n      <th>ticker</th>\n      <th>AADR</th>\n      <th>AAXJ</th>\n      <th>ACWI</th>\n      <th>ACWX</th>\n      <th>AGG</th>\n      <th>ARGT</th>\n      <th>ARKG</th>\n      <th>ARKK</th>\n      <th>ARKQ</th>\n      <th>ARKW</th>\n      <th>...</th>\n      <th>VYM</th>\n      <th>XBI</th>\n      <th>XHB</th>\n      <th>XLB</th>\n      <th>XLI</th>\n      <th>XLK</th>\n      <th>XLP</th>\n      <th>XLU</th>\n      <th>XLV</th>\n      <th>^GSPTSE</th>\n    </tr>\n  </thead>\n  <tbody>\n    <tr>\n      <th>exp_return</th>\n      <td>0.000304</td>\n      <td>0.000224</td>\n      <td>0.000273</td>\n      <td>0.000113</td>\n      <td>0.000172</td>\n      <td>0.000246</td>\n      <td>0.003574</td>\n      <td>0.001073</td>\n      <td>0.002444</td>\n      <td>0.001204</td>\n      <td>...</td>\n      <td>0.000259</td>\n      <td>0.000222</td>\n      <td>0.000233</td>\n      <td>0.000283</td>\n      <td>0.000293</td>\n      <td>0.000761</td>\n      <td>0.000266</td>\n      <td>0.000393</td>\n      <td>0.000314</td>\n      <td>0.000075</td>\n    </tr>\n  </tbody>\n</table>\n<p>1 rows × 263 columns</p>\n</div>"
     },
     "metadata": {},
     "execution_count": 200
    }
   ],
   "source": [
    "exp_return_df = exp_return_df[covar_df.columns]\n",
    "exp_return_df"
   ]
  },
  {
   "cell_type": "markdown",
   "metadata": {},
   "source": [
    "Optimization of portfolio"
   ]
  },
  {
   "cell_type": "code",
   "execution_count": 215,
   "metadata": {
    "tags": []
   },
   "outputs": [
    {
     "output_type": "execute_result",
     "data": {
      "text/plain": "        exp_return\nticker            \nAADR      0.000229\nAAXJ      0.000149\nACWI      0.000198\nACWX      0.000037\nAGG       0.000096\n...            ...\nXLI       0.000218\nXLK       0.000686\nXLP       0.000191\nXLU       0.000318\nXLV       0.000239\n\n[211 rows x 1 columns]",
      "text/html": "<div>\n<style scoped>\n    .dataframe tbody tr th:only-of-type {\n        vertical-align: middle;\n    }\n\n    .dataframe tbody tr th {\n        vertical-align: top;\n    }\n\n    .dataframe thead th {\n        text-align: right;\n    }\n</style>\n<table border=\"1\" class=\"dataframe\">\n  <thead>\n    <tr style=\"text-align: right;\">\n      <th></th>\n      <th>exp_return</th>\n    </tr>\n    <tr>\n      <th>ticker</th>\n      <th></th>\n    </tr>\n  </thead>\n  <tbody>\n    <tr>\n      <th>AADR</th>\n      <td>0.000229</td>\n    </tr>\n    <tr>\n      <th>AAXJ</th>\n      <td>0.000149</td>\n    </tr>\n    <tr>\n      <th>ACWI</th>\n      <td>0.000198</td>\n    </tr>\n    <tr>\n      <th>ACWX</th>\n      <td>0.000037</td>\n    </tr>\n    <tr>\n      <th>AGG</th>\n      <td>0.000096</td>\n    </tr>\n    <tr>\n      <th>...</th>\n      <td>...</td>\n    </tr>\n    <tr>\n      <th>XLI</th>\n      <td>0.000218</td>\n    </tr>\n    <tr>\n      <th>XLK</th>\n      <td>0.000686</td>\n    </tr>\n    <tr>\n      <th>XLP</th>\n      <td>0.000191</td>\n    </tr>\n    <tr>\n      <th>XLU</th>\n      <td>0.000318</td>\n    </tr>\n    <tr>\n      <th>XLV</th>\n      <td>0.000239</td>\n    </tr>\n  </tbody>\n</table>\n<p>211 rows × 1 columns</p>\n</div>"
     },
     "metadata": {},
     "execution_count": 215
    }
   ],
   "source": [
    "alpha_df = exp_return_df.T - exp_return_df['^GSPTSE'] # subtract market return\n",
    "alpha_df = alpha_df[alpha_df['exp_return'] > 0] # filter to only positive alpha\n",
    "alpha_sr = alpha_df['exp_return'].to_numpy()\n",
    "\n",
    "covar_df = covar_df[covar_df.index.isin(alpha_df.index)][alpha_df.index] # filter to only positive alpha\n",
    "covar = covar_df.round(8).to_numpy()\n",
    "alpha_df"
   ]
  },
  {
   "cell_type": "code",
   "execution_count": 227,
   "metadata": {
    "tags": []
   },
   "outputs": [
    {
     "output_type": "execute_result",
     "data": {
      "text/plain": "     fun: -0.14678073373999065\n     jac: array([ 1.59922556e+00,  1.31378898e+00,  1.48078329e+00,  1.53261023e+00,\n        2.25233648e-01,  1.70718772e+00,  6.41098246e-04,  2.02409923e+00,\n        8.05478543e-04,  1.62719688e+00,  1.05966160e-01,  1.34467652e+00,\n        5.94812218e-01,  3.12065916e-01,  2.22696230e-01,  5.88728394e-02,\n        2.01607700e-01,  7.47363158e-01,  1.12878673e+00,  1.52697099e+00,\n        1.41371198e+00,  1.53351747e+00,  1.68193882e+00,  1.54663205e+00,\n        1.49554097e+00,  1.37417016e+00,  8.91937792e-01,  4.07710377e-01,\n        1.72771351e+00,  5.77388816e-01,  2.23719051e+00,  1.74415621e+00,\n        1.72174858e+00,  1.72215242e+00,  1.07848837e+00,  1.08567543e+00,\n        1.30402393e+00,  1.13352185e+00,  1.69149404e+00,  2.65983776e+00,\n        1.52557877e+00,  1.68118797e+00,  1.27854876e+00,  1.29088796e+00,\n        1.70811675e+00,  3.33106136e-01,  1.58991633e+00,  1.47319340e+00,\n        1.49795908e+00,  1.20508041e+00,  1.10535014e+00,  3.19420934e-01,\n        4.71921880e-01,  1.24890462e-01,  1.44731445e+00,  1.20897632e+00,\n        1.07701815e+00,  1.24063861e+00,  2.00381688e+00,  3.25851120e-01,\n        4.21700515e-02,  1.77349318e+00,  1.38407133e+00,  1.57888909e+00,\n        1.49685081e+00,  7.12380351e-01,  2.99816554e-01,  5.64145820e-01,\n        3.29264348e-01,  1.87755829e+00,  1.56572200e+00,  1.38472560e+00,\n        1.94619354e+00,  1.83250136e+00,  1.90463294e+00,  2.01998849e+00,\n        1.06811093e+00,  1.39409055e+00,  2.38079086e+00,  1.49449739e+00,\n        1.49230631e+00,  1.64343944e+00,  1.94237450e+00,  1.48300160e+00,\n        1.41800406e+00,  1.48795352e+00,  1.98067873e+00,  1.60125694e+00,\n        1.41241554e+00,  1.91202099e+00,  1.87086095e+00,  1.59139882e+00,\n        1.74812065e+00,  1.83890465e+00,  1.54644672e+00,  1.22820341e+00,\n        1.51563351e+00,  1.23896048e+00,  1.62463292e+00,  1.41240714e+00,\n        1.62646758e+00,  1.94378187e+00,  1.44642565e+00,  7.15740886e-01,\n        1.52736901e+00,  1.16893416e+00,  4.56719883e-02,  4.12901448e-01,\n        1.51295029e-01,  1.94118143e+00,  1.45981869e+00,  1.46777542e+00,\n        1.42358927e+00,  3.85912880e-02,  3.92379263e-01,  1.59246902e+00,\n        4.61242689e-01,  1.39271546e+00,  1.11246750e+00,  1.17167142e+00,\n        1.62158988e+00,  1.61084729e+00,  1.98230122e+00,  2.07979234e+00,\n        2.69329165e+00,  1.29309057e+00,  1.70986808e+00,  1.65479842e+00,\n        2.01106898e+00,  1.53908016e+00,  1.60506634e+00,  1.48060815e+00,\n        1.51135231e+00,  1.48278861e+00,  1.82925284e+00,  1.66848818e-01,\n        1.53941632e+00,  1.50533862e+00,  2.22479191e-01,  1.44998314e+00,\n        1.56232561e+00,  3.16374185e-01,  1.50302821e+00,  1.09444786e+00,\n        5.55577623e-01,  1.08974939e+00,  1.49371055e+00,  3.09759502e+00,\n        4.52634226e+00,  1.43088230e+00,  6.69989683e-01,  3.00340299e+00,\n        1.85012907e-01,  1.51374141e+00,  1.33560521e+00,  1.87966358e-01,\n        2.41666440e-01,  1.61798026e-01,  4.60120355e+00,  1.69777440e+00,\n        1.85955534e+00,  1.79631100e+00,  2.71506961e-01,  6.47305993e-01,\n        2.06089279e-01,  1.10367865e+00,  1.52585416e+00,  9.17734975e-01,\n        1.51119062e+00, -6.74165785e-05,  1.64090398e+00,  1.45983803e+00,\n        1.29723462e+00,  1.32977316e+00,  1.96977313e+00,  1.64976649e+00,\n        1.91194156e-01,  2.02151540e+00,  1.71506739e+00,  1.79225138e+00,\n        1.53931502e+00,  1.39265663e+00,  1.57770142e+00,  1.47719783e+00,\n        1.44531822e+00,  1.51495346e+00,  1.61777278e+00,  1.34175080e+00,\n        1.57960420e+00,  1.51870286e+00,  1.52634141e+00,  1.43572867e+00,\n        1.51371795e+00,  2.05454789e-01,  1.48274349e+00,  1.93978159e+00,\n        1.94172889e+00,  1.44967522e+00,  1.47721778e+00,  1.48179493e+00,\n        1.89734693e+00,  1.49168617e+00,  1.42760147e+00,  1.76044904e+00,\n        2.24265109e+00,  1.62541584e+00,  1.59310787e+00,  1.49894831e+00,\n        1.05125446e+00,  1.55150241e+00,  1.20706126e+00])\n message: 'Optimization terminated successfully.'\n    nfev: 6181\n     nit: 30\n    njev: 29\n  status: 0\n success: True\n       x: array([0.00000000e+00, 0.00000000e+00, 0.00000000e+00, 0.00000000e+00,\n       1.37356629e-14, 0.00000000e+00, 4.47687545e-02, 2.60197750e-14,\n       4.09085401e-02, 0.00000000e+00, 0.00000000e+00, 4.91544886e-16,\n       6.41400010e-15, 3.99515242e-13, 1.01578077e-14, 3.22196452e-14,\n       9.06021085e-15, 4.35983716e-15, 3.95494474e-15, 0.00000000e+00,\n       2.84675783e-15, 0.00000000e+00, 0.00000000e+00, 0.00000000e+00,\n       0.00000000e+00, 2.36515118e-15, 4.60434169e-15, 1.06544832e-14,\n       0.00000000e+00, 1.01099533e-15, 0.00000000e+00, 0.00000000e+00,\n       0.00000000e+00, 0.00000000e+00, 2.51046849e-15, 2.63939020e-15,\n       3.62282069e-16, 2.41524280e-15, 0.00000000e+00, 0.00000000e+00,\n       0.00000000e+00, 0.00000000e+00, 3.32611851e-15, 3.59189172e-15,\n       1.61938047e-15, 9.12088004e-15, 4.08842021e-15, 0.00000000e+00,\n       0.00000000e+00, 1.33754529e-15, 8.85324841e-16, 9.05960802e-15,\n       9.26530948e-15, 8.60377355e-15, 0.00000000e+00, 0.00000000e+00,\n       2.14599827e-16, 8.15335459e-15, 0.00000000e+00, 1.30185633e-14,\n       1.36340012e-14, 0.00000000e+00, 0.00000000e+00, 0.00000000e+00,\n       0.00000000e+00, 5.92050844e-15, 8.79107186e-15, 5.07602770e-15,\n       2.06531460e-15, 0.00000000e+00, 0.00000000e+00, 0.00000000e+00,\n       0.00000000e+00, 0.00000000e+00, 0.00000000e+00, 0.00000000e+00,\n       0.00000000e+00, 1.71074075e-15, 0.00000000e+00, 0.00000000e+00,\n       0.00000000e+00, 0.00000000e+00, 0.00000000e+00, 0.00000000e+00,\n       0.00000000e+00, 0.00000000e+00, 0.00000000e+00, 0.00000000e+00,\n       0.00000000e+00, 0.00000000e+00, 0.00000000e+00, 0.00000000e+00,\n       0.00000000e+00, 0.00000000e+00, 0.00000000e+00, 4.02594324e-16,\n       0.00000000e+00, 0.00000000e+00, 0.00000000e+00, 0.00000000e+00,\n       0.00000000e+00, 0.00000000e+00, 9.65674235e-16, 5.94692573e-15,\n       0.00000000e+00, 0.00000000e+00, 0.00000000e+00, 1.01423361e-14,\n       8.49061059e-15, 0.00000000e+00, 0.00000000e+00, 0.00000000e+00,\n       0.00000000e+00, 1.39258500e-14, 8.93285681e-15, 0.00000000e+00,\n       8.01121479e-15, 0.00000000e+00, 1.83747146e-15, 3.18727746e-15,\n       6.52220477e-15, 0.00000000e+00, 0.00000000e+00, 0.00000000e+00,\n       0.00000000e+00, 1.23189626e-15, 0.00000000e+00, 0.00000000e+00,\n       0.00000000e+00, 0.00000000e+00, 0.00000000e+00, 0.00000000e+00,\n       1.02205606e-15, 0.00000000e+00, 0.00000000e+00, 1.22118874e-14,\n       0.00000000e+00, 0.00000000e+00, 1.15653609e-14, 0.00000000e+00,\n       0.00000000e+00, 7.03819232e-15, 0.00000000e+00, 1.07656002e-15,\n       8.30568217e-15, 2.27530602e-15, 0.00000000e+00, 0.00000000e+00,\n       0.00000000e+00, 0.00000000e+00, 8.04796281e-15, 0.00000000e+00,\n       1.07441637e-14, 0.00000000e+00, 0.00000000e+00, 1.27787538e-14,\n       1.04898115e-14, 1.09415780e-14, 0.00000000e+00, 0.00000000e+00,\n       0.00000000e+00, 0.00000000e+00, 9.78326437e-15, 6.84731618e-15,\n       1.01783102e-14, 2.23132766e-15, 0.00000000e+00, 4.08371159e-15,\n       0.00000000e+00, 9.14322705e-01, 2.47360496e-16, 0.00000000e+00,\n       8.89538162e-16, 0.00000000e+00, 0.00000000e+00, 0.00000000e+00,\n       1.17906563e-14, 0.00000000e+00, 0.00000000e+00, 0.00000000e+00,\n       0.00000000e+00, 1.10128004e-15, 0.00000000e+00, 0.00000000e+00,\n       0.00000000e+00, 0.00000000e+00, 0.00000000e+00, 6.51900201e-16,\n       0.00000000e+00, 0.00000000e+00, 0.00000000e+00, 0.00000000e+00,\n       0.00000000e+00, 9.57021075e-15, 0.00000000e+00, 1.36570990e-16,\n       0.00000000e+00, 0.00000000e+00, 8.16815880e-16, 0.00000000e+00,\n       0.00000000e+00, 0.00000000e+00, 0.00000000e+00, 8.48776775e-15,\n       0.00000000e+00, 0.00000000e+00, 0.00000000e+00, 0.00000000e+00,\n       1.81196809e-15, 0.00000000e+00, 0.00000000e+00])"
     },
     "metadata": {},
     "execution_count": 227
    }
   ],
   "source": [
    "from scipy.optimize import minimize\n",
    "import numpy as np\n",
    "\n",
    "def treynor_ratio(weights: np.ndarray, covar_matrix: np.ndarray, alpha_returns: np.ndarray) -> float:\n",
    "    # we are minimizing the negative to get a maximum\n",
    "    objective = float(-weights.dot(alpha_returns) / np.sqrt(weights.dot(covar_matrix).dot(weights.T)))\n",
    "    return objective\n",
    "\n",
    "weights = np.ones(covar_df.columns.__len__())\n",
    "constraints = ({'type': 'eq', 'fun': lambda weights: np.sum(weights) - 1})\n",
    "bounds = [(0, None,) for i in range(len(weights))]\n",
    "portfolio = minimize(treynor_ratio, weights, args=(covar, alpha_sr), bounds=bounds, constraints=constraints)\n",
    "portfolio"
   ]
  },
  {
   "cell_type": "code",
   "execution_count": 228,
   "metadata": {},
   "outputs": [],
   "source": [
    "pd.Series(portfolio.x).to_clipboard()"
   ]
  }
 ],
 "metadata": {
  "file_extension": ".py",
  "kernelspec": {
   "display_name": "Python 3",
   "language": "python",
   "name": "python3"
  },
  "language_info": {
   "codemirror_mode": {
    "name": "ipython",
    "version": 3
   },
   "file_extension": ".py",
   "mimetype": "text/x-python",
   "name": "python",
   "nbconvert_exporter": "python",
   "pygments_lexer": "ipython3",
   "version": "3.7.6-final"
  },
  "mimetype": "text/x-python",
  "name": "python",
  "npconvert_exporter": "python",
  "pygments_lexer": "ipython3",
  "version": 3
 },
 "nbformat": 4,
 "nbformat_minor": 4
}