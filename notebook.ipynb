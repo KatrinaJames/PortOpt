{
 "cells": [
  {
   "cell_type": "markdown",
   "metadata": {},
   "source": [
    "Gather all tickers"
   ]
  },
  {
   "cell_type": "code",
   "execution_count": 2,
   "metadata": {
    "tags": []
   },
   "outputs": [
    {
     "output_type": "stream",
     "name": "stdout",
     "text": "['ITOT', 'ACWI', 'IWV', 'SCHB', 'FNDB', 'VT', 'VTI', 'VXUS', 'VTHR', 'DIA', 'RSP', 'IOO', 'IVV', 'SPY', 'SHE', 'VOO', 'IWM', 'OEF', 'QQQ', 'CVY', 'RPG', 'RPV', 'IWB', 'IWF', 'IWD', 'IVV', 'IVW', 'IVE', 'PKW', 'PRF', 'SPLV', 'SCHX', 'SCHG', 'SCHV', 'SCHD', 'FNDX', 'SDY', 'VOO', 'VOOG', 'VOOV', 'VV', 'VUG', 'VTV', 'MGC', 'MGK', 'MGV', 'VONE', 'VONG', 'VONV', 'VIG', 'VYM', 'DTN', 'DLN', 'MDY', 'DVY', 'IWR', 'IWP', 'IWS', 'IJH', 'IJK', 'IJJ', 'PDP', 'SCHM', 'IVOO', 'IVOG', 'IVOV', 'VO', 'VOT', 'VOE', 'VXF', 'DON', 'IWC', 'IWM', 'IWO', 'IWN', 'IJR', 'IJT', 'IJS', 'SCHA', 'FNDA', 'VIOO', 'VIOG', 'VIOV', 'VB', 'VBK', 'VBR', 'VTWO', 'VTWG', 'VTWV', 'EEB', 'ECON', 'IDV', 'ACWX', 'BKF', 'EFA', 'EFG', 'EFV', 'SCZ', 'EEM', 'PID', 'SCHC', 'SCHE', 'SCHF', 'FNDF', 'FNDC', 'FNDE', 'DWX', 'VEA', 'VWO', 'VXUS', 'VEU', 'VSS', 'DEM', 'DGS', 'AAXJ', 'EZU', 'EPP', 'IEV', 'ILF', 'FEZ', 'VGK', 'VPL', 'HEDJ', 'DFE', 'AND', 'GXF', 'EWA', 'EWC', 'EWG', 'EIS', 'EWI', 'EWJ', 'EWD', 'EWL', 'EWP', 'EWU', 'DXJ', 'NORW', 'EWZ', 'FXI', 'EWH', 'EWW', 'EPHE', 'RSX', 'EWS', 'EWM', 'EWY', 'EWT', 'EPI', 'ARGT', 'BRAF', 'BRAQ', 'BRAZ', 'GXG', 'XLY', 'IYC', 'ITB', 'XHB', 'VCR', 'XLP', 'IYK', 'VDC', 'AMLP', 'XLE', 'IYE', 'IGE', 'OIH', 'XOP', 'VDE', 'QCLN', 'NERD', 'ESPO', 'XLF', 'IYF', 'KBE', 'KRE', 'VFH', 'FXH', 'FBT', 'XLV', 'IYH', 'IBB', 'PJP', 'XBI', 'VHT', 'XLI', 'IYJ', 'VIS', 'XLB', 'IYM', 'GDX', 'GDXJ', 'VAW', 'FDN', 'XLK', 'IYW', 'IGV', 'VGT', 'IYZ', 'VOX', 'XLU', 'IDU', 'VPU', 'IPD', 'RXI', 'IPS', 'KXI', 'IPW', 'IXC', 'IPF', 'IXG', 'IRY', 'IXJ', 'IPN', 'EXI', 'GUNR', 'IRV', 'MXI', 'IPK', 'IXN', 'IST', 'IXP', 'IPU', 'JXI', 'HYLD', 'TDTT', 'CSJ', 'IEI', 'AGG', 'SHY', 'TIP', 'HYG', 'LQD', 'IEF', 'TLT', 'FLOT', 'CIU', 'GVI', 'EMB', 'MBB', 'MUB', 'SHV', 'HYD', 'HYS', 'STPZ', 'MINT', 'BOND', 'PCY', 'BKLN', 'SCHZ', 'SCHP', 'SCHO', 'SCHR', 'JNK', 'BIL', 'CWB', 'JNK', 'SCPB', 'BWX', 'SJNK', 'TFI', 'SHM', 'EDV', 'BIV', 'VCIT', 'VGIT', 'BLV', 'VCLT', 'VGLT', 'VMBS', 'BSV', 'VCSH', 'VGSH', 'VTIP', 'BND', 'BNDX', 'RJI', 'DJP', 'GSG', 'DBC', 'RJA', 'JJA', 'DBA', 'RJN', 'OIL', 'GAZ', 'UNG', 'USO', 'RJZ', 'JJM', 'JJC', 'DBB', 'SGOL', 'IAU', 'GLD', 'SIVR', 'SLV', 'PALL', 'PPLT', 'ICF', 'IFAS', 'IFEU', 'IYR', 'REM', 'SCHH', 'RWO', 'RWX', 'RWR', 'WREI', 'VNQ', 'VNQI', 'HDGE', 'HDGI', 'DOG', 'SH', 'MYY', 'SBB', 'PSQ', 'RWM', 'EFZ', 'MIDU', 'SPUU', 'SPXL', 'ERX', 'FAS', 'BGU', 'TNA', 'DDM', 'QLD', 'UWM', 'SSO', 'UPRO', 'SDS', 'SPXU', 'TZA', 'QID', 'SKF', 'TWM', 'DXD', 'SRS', 'MZZ', 'DUG', 'BGZ', 'ERY', 'FAZ', 'AADR', 'ACCU', 'DBIZ', 'EPRO', 'FWDB', 'FWDD', 'FWDI', 'GEUR', 'GGBP', 'GIVE', 'GLDE', 'GYEN', 'GTAA', 'HDGE', 'HDGI', 'HOLD', 'HYLD', 'MATH', 'MINC', 'QEH', 'TTFS', 'VEGA', 'YPRO', 'RIGS', 'ARKG', 'ARKQ', 'ARKW', 'ARKK', 'SYLD', 'GMMB', 'GMTB', 'GVT', 'RPX', 'RWG', 'EMLP', 'FMB', 'FMF', 'FPE', 'FTGS', 'FTHI', 'FTLB', 'FTSL', 'HYLS', 'RAVI', 'FTSD', 'GSY', 'HECO', 'HUSE', 'ICSH', 'IEIL', 'IEIS', 'IELG', 'IESM', 'NEAR', 'BABZ', 'BOND', 'DI', 'FORX', 'ILB', 'LDUR', 'MINT', 'MUNI', 'SMMU', 'CHNA', 'LALT', 'PHDG', 'PSR', 'ONEF', 'GAL', 'INKM', 'RLY', 'SYE', 'SYG', 'SYV', 'SRLN', 'ULST', 'ALD', 'AUNZ', 'BZF', 'CCX', 'CEW', 'CRDT', 'CYB', 'ELD', 'EMCB', 'EU', 'ICB', 'RRF', 'USDU', 'WDTI', '^GSPTSE']\n"
    }
   ],
   "source": [
    "import requests\n",
    "import pandas as pd\n",
    "from bs4 import BeautifulSoup\n",
    "from typing import List, Tuple\n",
    "\n",
    "wiki_page: str = requests.get('https://en.wikipedia.org/wiki/List_of_American_exchange-traded_funds').text\n",
    "soup: BeautifulSoup = BeautifulSoup(wiki_page,'lxml')\n",
    "\n",
    "list_items = soup.select('li:contains(\"|\")')\n",
    "tickers: List[str] = []\n",
    "\n",
    "for list_item in list_items:\n",
    "    li_text: str = list_item.text\n",
    "    start_index: int = li_text.find('|')\n",
    "    end_index: int = li_text.find(')',start_index)\n",
    "    tickers.append(li_text[start_index +1:end_index].strip())\n",
    "\n",
    "tickers.append('^GSPTSE') # add S&P/TSX Composite as benchmark\n",
    "print(tickers)"
   ]
  },
  {
   "cell_type": "markdown",
   "metadata": {},
   "source": [
    "Fetch ticker info from Yahoo"
   ]
  },
  {
   "cell_type": "code",
   "execution_count": 3,
   "metadata": {
    "tags": []
   },
   "outputs": [
    {
     "output_type": "stream",
     "name": "stdout",
     "text": "[*********************100%***********************]  426 of 426 completed\n\n16 Failed downloads:\n- GLDE: No data found for this date range, symbol may be delisted\n- QEH: No data found, symbol may be delisted\n- RRF: No data found, symbol may be delisted\n- IRV: No data found for this date range, symbol may be delisted\n- BABZ: No data found for this date range, symbol may be delisted\n- FTGS: No data found, symbol may be delisted\n- ONEF: No data found for this date range, symbol may be delisted\n- HDGI: No data found for this date range, symbol may be delisted\n- CRDT: No data found for this date range, symbol may be delisted\n- RWG: No data found, symbol may be delisted\n- ACCU: No data found for this date range, symbol may be delisted\n- YPRO: No data found, symbol may be delisted\n- GGBP: No data found for this date range, symbol may be delisted\n- RPX: No data found, symbol may be delisted\n- WDTI: No data found, symbol may be delisted\n- BGU: No data found for this date range, symbol may be delisted\n                 GTAA                                                      \\\n                 Open       High        Low      Close  Adj Close  Volume   \nDate                                                                        \n2015-07-10        NaN        NaN        NaN        NaN        NaN     NaN   \n2015-07-13  24.400000  24.540001  24.290001  24.430000  24.074467  2800.0   \n2015-07-14  24.450001  24.469999  24.450001  24.469999  24.113884  1300.0   \n2015-07-15  24.450001  24.450001  24.450001  24.450001  24.094177   500.0   \n2015-07-16  24.450001  24.549999  24.450001  24.549999  24.192720   900.0   \n...               ...        ...        ...        ...        ...     ...   \n2020-07-06        NaN        NaN        NaN        NaN        NaN     NaN   \n2020-07-07        NaN        NaN        NaN        NaN        NaN     NaN   \n2020-07-08        NaN        NaN        NaN        NaN        NaN     NaN   \n2020-07-09        NaN        NaN        NaN        NaN        NaN     NaN   \n2020-07-10        NaN        NaN        NaN        NaN        NaN     NaN   \n\n                 ARKW                                   ...        IDV  \\\n                 Open       High        Low      Close  ...        Low   \nDate                                                    ...              \n2015-07-10        NaN        NaN        NaN        NaN  ...        NaN   \n2015-07-13  23.150000  23.240000  23.150000  23.215000  ...  32.090000   \n2015-07-14  23.440001  23.469999  23.440001  23.469999  ...  32.259998   \n2015-07-15  23.590000  23.590000  23.229000  23.229000  ...  32.250000   \n2015-07-16  23.490000  23.700001  23.490000  23.700001  ...  32.560001   \n...               ...        ...        ...        ...  ...        ...   \n2020-07-06  91.519997  93.606003  91.070000  92.290001  ...  25.809999   \n2020-07-07  92.709999  94.599998  92.000000  92.769997  ...  25.469999   \n2020-07-08  94.129997  95.849998  94.000000  95.790001  ...  25.459999   \n2020-07-09  97.010002  97.250000  94.400002  96.650002  ...  25.049999   \n2020-07-10  96.680000  97.408997  95.261002  97.360001  ...  25.170000   \n\n                                                    VTI              \\\n                Close  Adj Close     Volume        Open        High   \nDate                                                                  \n2015-07-10        NaN        NaN        NaN         NaN         NaN   \n2015-07-13  32.169998  24.382027   910000.0  108.580002  108.889999   \n2015-07-14  32.470001  24.609396  1572300.0  108.800003  109.500000   \n2015-07-15  32.360001  24.526030   696000.0  109.370003  109.559998   \n2015-07-16  32.599998  24.707930   708100.0  109.849998  109.949997   \n...               ...        ...        ...         ...         ...   \n2020-07-06  25.969999  25.969999   881300.0  160.500000  161.029999   \n2020-07-07  25.480000  25.480000   878800.0  159.789993  160.880005   \n2020-07-08  25.740000  25.740000   649600.0  159.309998  160.279999   \n2020-07-09  25.209999  25.209999  1062900.0  160.559998  160.699997   \n2020-07-10  25.450001  25.450001   672300.0  159.169998  161.009995   \n\n                                                           \n                   Low       Close   Adj Close     Volume  \nDate                                                       \n2015-07-10         NaN         NaN         NaN        NaN  \n2015-07-13  108.379997  108.820000   98.790596  2835300.0  \n2015-07-14  108.589996  109.309998   99.235443  2292500.0  \n2015-07-15  108.910004  109.169998   99.108353  2555700.0  \n2015-07-16  109.650002  109.930000   99.798294  1314000.0  \n...                ...         ...         ...        ...  \n2020-07-06  159.860001  160.559998  160.559998  3307600.0  \n2020-07-07  158.729996  158.929993  158.929993  2357400.0  \n2020-07-08  158.369995  160.229996  160.229996  2434900.0  \n2020-07-09  157.279999  159.240005  159.240005  2465200.0  \n2020-07-10  158.429993  160.949997  160.949997  2390900.0  \n\n[1281 rows x 2556 columns]\n"
    }
   ],
   "source": [
    "import yfinance as yf\n",
    "\n",
    "data: pd.DataFrame = yf.download(tickers=\" \".join(tickers), period=\"5y\", interval=\"1d\", group_by='ticker')\n",
    "print(data)"
   ]
  },
  {
   "cell_type": "markdown",
   "metadata": {},
   "source": [
    "Save output to file to prevent further network requests."
   ]
  },
  {
   "cell_type": "code",
   "execution_count": 4,
   "metadata": {},
   "outputs": [],
   "source": [
    "import os\n",
    "\n",
    "found_tickers: List[str] = data.columns.get_level_values(0).unique().to_list()\n",
    "\n",
    "for found_ticker in found_tickers:\n",
    "    data[found_ticker].to_csv(os.path.join(\"data\", found_ticker + '.csv'))\n"
   ]
  },
  {
   "cell_type": "markdown",
   "metadata": {},
   "source": [
    "Read files back from directory."
   ]
  },
  {
   "cell_type": "code",
   "execution_count": 7,
   "metadata": {},
   "outputs": [
    {
     "output_type": "execute_result",
     "data": {
      "text/plain": "                 AADR       AAXJ  ACCU       ACWI       ACWX         AGG  \\\nDate                                                                       \n2015-07-10        NaN        NaN   NaN        NaN        NaN         NaN   \n2015-07-13  38.026569  55.794907   NaN  53.946297  39.022835   95.111549   \n2015-07-14  38.026569  55.686138   NaN  54.277966  39.242306   95.269760   \n2015-07-15  38.026569  55.042519   NaN  54.134541  39.066727   95.524658   \n2015-07-16  38.696598  55.776779   NaN  54.528973  39.365215   95.603722   \n...               ...        ...   ...        ...        ...         ...   \n2020-07-06  54.660000  75.269997   NaN  76.400002  45.139999  118.180000   \n2020-07-07  54.880001  73.839996   NaN  75.510002  44.430000  118.360001   \n2020-07-08  55.520000  75.760002   NaN  76.290001  45.029999  118.320000   \n2020-07-09  56.009998  75.650002   NaN  75.820000  44.680000  118.629997   \n2020-07-10  55.439999  75.089996   NaN  76.430000  44.930000  118.489998   \n\n                  ALD       AMLP       AND       ARGT  ...        XLF  \\\nDate                                                   ...              \n2015-07-10        NaN        NaN       NaN        NaN  ...        NaN   \n2015-07-13  41.725567  52.897274  7.804343  18.792439  ...  14.085241   \n2015-07-14  41.901981  53.264389  7.890951  19.051447  ...  14.119128   \n2015-07-15  41.632706  52.530167  7.775474  19.013077  ...  14.237730   \n2015-07-16  41.755276  52.062946  7.736981  19.435162  ...  14.378919   \n...               ...        ...       ...        ...  ...        ...   \n2020-07-06        NaN  23.510000       NaN  25.809999  ...  23.410000   \n2020-07-07        NaN  23.660000       NaN  25.500000  ...  22.930000   \n2020-07-08        NaN  23.700001       NaN  25.660000  ...  23.170000   \n2020-07-09        NaN  22.799999       NaN  25.389999  ...  22.680000   \n2020-07-10        NaN  23.150000       NaN  25.770000  ...  23.459999   \n\n                  XLI         XLK        XLP        XLU         XLV  \\\nDate                                                                  \n2015-07-10        NaN         NaN        NaN        NaN         NaN   \n2015-07-13  49.342838   38.891907  43.365269  36.300888   69.638321   \n2015-07-14  49.477974   39.039825  43.435162  36.250233   70.335449   \n2015-07-15  49.270763   39.049072  43.321602  36.427559   70.427200   \n2015-07-16  49.495991   39.548279  43.767128  36.967972   70.757393   \n...               ...         ...        ...        ...         ...   \n2020-07-06  69.970001  107.110001  59.279999  57.189999  102.629997   \n2020-07-07  68.629997  105.989998  59.820000  56.959999  101.739998   \n2020-07-08  68.629997  107.720001  59.669998  57.470001  101.750000   \n2020-07-09  67.139999  108.110001  59.200001  56.700001  100.949997   \n2020-07-10  68.010002  108.080002  60.290001  57.770000  100.709999   \n\n                   XLY         XOP  YPRO       ^GSPTSE  \nDate                                                    \n2015-07-10         NaN         NaN   NaN  14411.099609  \n2015-07-13   73.368744  164.961609   NaN  14533.200195  \n2015-07-14   73.461868  169.921738   NaN  14599.400391  \n2015-07-15   73.387375  163.383377   NaN  14662.299805  \n2015-07-16   73.834351  161.466980   NaN  14731.099609  \n...                ...         ...   ...           ...  \n2020-07-06  132.580002   52.070000   NaN  15669.700195  \n2020-07-07  130.500000   50.259998   NaN  15595.500000  \n2020-07-08  131.889999   50.310001   NaN  15629.200195  \n2020-07-09  131.740005   47.680000   NaN  15568.599609  \n2020-07-10  133.309998   49.410000   NaN  15713.799805  \n\n[1281 rows x 426 columns]",
      "text/html": "<div>\n<style scoped>\n    .dataframe tbody tr th:only-of-type {\n        vertical-align: middle;\n    }\n\n    .dataframe tbody tr th {\n        vertical-align: top;\n    }\n\n    .dataframe thead th {\n        text-align: right;\n    }\n</style>\n<table border=\"1\" class=\"dataframe\">\n  <thead>\n    <tr style=\"text-align: right;\">\n      <th></th>\n      <th>AADR</th>\n      <th>AAXJ</th>\n      <th>ACCU</th>\n      <th>ACWI</th>\n      <th>ACWX</th>\n      <th>AGG</th>\n      <th>ALD</th>\n      <th>AMLP</th>\n      <th>AND</th>\n      <th>ARGT</th>\n      <th>...</th>\n      <th>XLF</th>\n      <th>XLI</th>\n      <th>XLK</th>\n      <th>XLP</th>\n      <th>XLU</th>\n      <th>XLV</th>\n      <th>XLY</th>\n      <th>XOP</th>\n      <th>YPRO</th>\n      <th>^GSPTSE</th>\n    </tr>\n    <tr>\n      <th>Date</th>\n      <th></th>\n      <th></th>\n      <th></th>\n      <th></th>\n      <th></th>\n      <th></th>\n      <th></th>\n      <th></th>\n      <th></th>\n      <th></th>\n      <th></th>\n      <th></th>\n      <th></th>\n      <th></th>\n      <th></th>\n      <th></th>\n      <th></th>\n      <th></th>\n      <th></th>\n      <th></th>\n      <th></th>\n    </tr>\n  </thead>\n  <tbody>\n    <tr>\n      <th>2015-07-10</th>\n      <td>NaN</td>\n      <td>NaN</td>\n      <td>NaN</td>\n      <td>NaN</td>\n      <td>NaN</td>\n      <td>NaN</td>\n      <td>NaN</td>\n      <td>NaN</td>\n      <td>NaN</td>\n      <td>NaN</td>\n      <td>...</td>\n      <td>NaN</td>\n      <td>NaN</td>\n      <td>NaN</td>\n      <td>NaN</td>\n      <td>NaN</td>\n      <td>NaN</td>\n      <td>NaN</td>\n      <td>NaN</td>\n      <td>NaN</td>\n      <td>14411.099609</td>\n    </tr>\n    <tr>\n      <th>2015-07-13</th>\n      <td>38.026569</td>\n      <td>55.794907</td>\n      <td>NaN</td>\n      <td>53.946297</td>\n      <td>39.022835</td>\n      <td>95.111549</td>\n      <td>41.725567</td>\n      <td>52.897274</td>\n      <td>7.804343</td>\n      <td>18.792439</td>\n      <td>...</td>\n      <td>14.085241</td>\n      <td>49.342838</td>\n      <td>38.891907</td>\n      <td>43.365269</td>\n      <td>36.300888</td>\n      <td>69.638321</td>\n      <td>73.368744</td>\n      <td>164.961609</td>\n      <td>NaN</td>\n      <td>14533.200195</td>\n    </tr>\n    <tr>\n      <th>2015-07-14</th>\n      <td>38.026569</td>\n      <td>55.686138</td>\n      <td>NaN</td>\n      <td>54.277966</td>\n      <td>39.242306</td>\n      <td>95.269760</td>\n      <td>41.901981</td>\n      <td>53.264389</td>\n      <td>7.890951</td>\n      <td>19.051447</td>\n      <td>...</td>\n      <td>14.119128</td>\n      <td>49.477974</td>\n      <td>39.039825</td>\n      <td>43.435162</td>\n      <td>36.250233</td>\n      <td>70.335449</td>\n      <td>73.461868</td>\n      <td>169.921738</td>\n      <td>NaN</td>\n      <td>14599.400391</td>\n    </tr>\n    <tr>\n      <th>2015-07-15</th>\n      <td>38.026569</td>\n      <td>55.042519</td>\n      <td>NaN</td>\n      <td>54.134541</td>\n      <td>39.066727</td>\n      <td>95.524658</td>\n      <td>41.632706</td>\n      <td>52.530167</td>\n      <td>7.775474</td>\n      <td>19.013077</td>\n      <td>...</td>\n      <td>14.237730</td>\n      <td>49.270763</td>\n      <td>39.049072</td>\n      <td>43.321602</td>\n      <td>36.427559</td>\n      <td>70.427200</td>\n      <td>73.387375</td>\n      <td>163.383377</td>\n      <td>NaN</td>\n      <td>14662.299805</td>\n    </tr>\n    <tr>\n      <th>2015-07-16</th>\n      <td>38.696598</td>\n      <td>55.776779</td>\n      <td>NaN</td>\n      <td>54.528973</td>\n      <td>39.365215</td>\n      <td>95.603722</td>\n      <td>41.755276</td>\n      <td>52.062946</td>\n      <td>7.736981</td>\n      <td>19.435162</td>\n      <td>...</td>\n      <td>14.378919</td>\n      <td>49.495991</td>\n      <td>39.548279</td>\n      <td>43.767128</td>\n      <td>36.967972</td>\n      <td>70.757393</td>\n      <td>73.834351</td>\n      <td>161.466980</td>\n      <td>NaN</td>\n      <td>14731.099609</td>\n    </tr>\n    <tr>\n      <th>...</th>\n      <td>...</td>\n      <td>...</td>\n      <td>...</td>\n      <td>...</td>\n      <td>...</td>\n      <td>...</td>\n      <td>...</td>\n      <td>...</td>\n      <td>...</td>\n      <td>...</td>\n      <td>...</td>\n      <td>...</td>\n      <td>...</td>\n      <td>...</td>\n      <td>...</td>\n      <td>...</td>\n      <td>...</td>\n      <td>...</td>\n      <td>...</td>\n      <td>...</td>\n      <td>...</td>\n    </tr>\n    <tr>\n      <th>2020-07-06</th>\n      <td>54.660000</td>\n      <td>75.269997</td>\n      <td>NaN</td>\n      <td>76.400002</td>\n      <td>45.139999</td>\n      <td>118.180000</td>\n      <td>NaN</td>\n      <td>23.510000</td>\n      <td>NaN</td>\n      <td>25.809999</td>\n      <td>...</td>\n      <td>23.410000</td>\n      <td>69.970001</td>\n      <td>107.110001</td>\n      <td>59.279999</td>\n      <td>57.189999</td>\n      <td>102.629997</td>\n      <td>132.580002</td>\n      <td>52.070000</td>\n      <td>NaN</td>\n      <td>15669.700195</td>\n    </tr>\n    <tr>\n      <th>2020-07-07</th>\n      <td>54.880001</td>\n      <td>73.839996</td>\n      <td>NaN</td>\n      <td>75.510002</td>\n      <td>44.430000</td>\n      <td>118.360001</td>\n      <td>NaN</td>\n      <td>23.660000</td>\n      <td>NaN</td>\n      <td>25.500000</td>\n      <td>...</td>\n      <td>22.930000</td>\n      <td>68.629997</td>\n      <td>105.989998</td>\n      <td>59.820000</td>\n      <td>56.959999</td>\n      <td>101.739998</td>\n      <td>130.500000</td>\n      <td>50.259998</td>\n      <td>NaN</td>\n      <td>15595.500000</td>\n    </tr>\n    <tr>\n      <th>2020-07-08</th>\n      <td>55.520000</td>\n      <td>75.760002</td>\n      <td>NaN</td>\n      <td>76.290001</td>\n      <td>45.029999</td>\n      <td>118.320000</td>\n      <td>NaN</td>\n      <td>23.700001</td>\n      <td>NaN</td>\n      <td>25.660000</td>\n      <td>...</td>\n      <td>23.170000</td>\n      <td>68.629997</td>\n      <td>107.720001</td>\n      <td>59.669998</td>\n      <td>57.470001</td>\n      <td>101.750000</td>\n      <td>131.889999</td>\n      <td>50.310001</td>\n      <td>NaN</td>\n      <td>15629.200195</td>\n    </tr>\n    <tr>\n      <th>2020-07-09</th>\n      <td>56.009998</td>\n      <td>75.650002</td>\n      <td>NaN</td>\n      <td>75.820000</td>\n      <td>44.680000</td>\n      <td>118.629997</td>\n      <td>NaN</td>\n      <td>22.799999</td>\n      <td>NaN</td>\n      <td>25.389999</td>\n      <td>...</td>\n      <td>22.680000</td>\n      <td>67.139999</td>\n      <td>108.110001</td>\n      <td>59.200001</td>\n      <td>56.700001</td>\n      <td>100.949997</td>\n      <td>131.740005</td>\n      <td>47.680000</td>\n      <td>NaN</td>\n      <td>15568.599609</td>\n    </tr>\n    <tr>\n      <th>2020-07-10</th>\n      <td>55.439999</td>\n      <td>75.089996</td>\n      <td>NaN</td>\n      <td>76.430000</td>\n      <td>44.930000</td>\n      <td>118.489998</td>\n      <td>NaN</td>\n      <td>23.150000</td>\n      <td>NaN</td>\n      <td>25.770000</td>\n      <td>...</td>\n      <td>23.459999</td>\n      <td>68.010002</td>\n      <td>108.080002</td>\n      <td>60.290001</td>\n      <td>57.770000</td>\n      <td>100.709999</td>\n      <td>133.309998</td>\n      <td>49.410000</td>\n      <td>NaN</td>\n      <td>15713.799805</td>\n    </tr>\n  </tbody>\n</table>\n<p>1281 rows × 426 columns</p>\n</div>"
     },
     "metadata": {},
     "execution_count": 7
    }
   ],
   "source": [
    "import glob\n",
    "\n",
    "csv_paths: List[str] = glob.glob(os.path.join(\"data\", '*.csv'))\n",
    "prices_df: pd.DataFrame = None\n",
    "\n",
    "for csv_path in csv_paths:\n",
    "    (ticker_id, extension) = csv_path.split(\".\", 1)\n",
    "    df: pd.DataFrame = pd.read_csv(csv_path, index_col='Date', usecols=['Date', 'Adj Close'], header=0, parse_dates=True)\n",
    "    df = df.rename(columns={'Adj Close': os.path.split(ticker_id)[1]})\n",
    "\n",
    "    if prices_df is not None:\n",
    "        prices_df = prices_df.join(df)\n",
    "    else:\n",
    "        prices_df = df\n",
    "\n",
    "prices_df = prices_df.sort_values(by='Date', axis=0)\n",
    "prices_df"
   ]
  },
  {
   "cell_type": "markdown",
   "metadata": {},
   "source": [
    "Calculate price returns"
   ]
  },
  {
   "cell_type": "code",
   "execution_count": 8,
   "metadata": {},
   "outputs": [
    {
     "output_type": "execute_result",
     "data": {
      "text/plain": "                AADR      AAXJ  ACCU      ACWI      ACWX       AGG       ALD  \\\nDate                                                                           \n2015-07-10       NaN       NaN   NaN       NaN       NaN       NaN       NaN   \n2015-07-13       NaN       NaN   NaN       NaN       NaN       NaN       NaN   \n2015-07-14  0.000000 -0.001949   NaN  0.006148  0.005624  0.001663  0.004228   \n2015-07-15  0.000000 -0.011558   NaN -0.002642 -0.004474  0.002676 -0.006426   \n2015-07-16  0.017620  0.013340   NaN  0.007286  0.007640  0.000828  0.002944   \n...              ...       ...   ...       ...       ...       ...       ...   \n2020-07-06  0.010538  0.049644   NaN  0.019210  0.023583 -0.000085  0.000000   \n2020-07-07  0.004025 -0.018998   NaN -0.011649 -0.015729  0.001523  0.000000   \n2020-07-08  0.011662  0.026002   NaN  0.010330  0.013504 -0.000338  0.000000   \n2020-07-09  0.008826 -0.001452   NaN -0.006161 -0.007773  0.002620  0.000000   \n2020-07-10 -0.010177 -0.007403   NaN  0.008045  0.005595 -0.001180  0.000000   \n\n                AMLP       AND      ARGT  ...       XLF       XLI       XLK  \\\nDate                                      ...                                 \n2015-07-10       NaN       NaN       NaN  ...       NaN       NaN       NaN   \n2015-07-13       NaN       NaN       NaN  ...       NaN       NaN       NaN   \n2015-07-14  0.006940  0.011097  0.013783  ...  0.002406  0.002739  0.003803   \n2015-07-15 -0.013784 -0.014634 -0.002014  ...  0.008400 -0.004188  0.000237   \n2015-07-16 -0.008894 -0.004951  0.022200  ...  0.009917  0.004571  0.012784   \n...              ...       ...       ...  ...       ...       ...       ...   \n2020-07-06 -0.028111  0.000000  0.069180  ...  0.019155  0.014352  0.017479   \n2020-07-07  0.006380  0.000000 -0.012011  ... -0.020504 -0.019151 -0.010457   \n2020-07-08  0.001691  0.000000  0.006275  ...  0.010467  0.000000  0.016322   \n2020-07-09 -0.037975  0.000000 -0.010522  ... -0.021148 -0.021711  0.003620   \n2020-07-10  0.015351  0.000000  0.014967  ...  0.034391  0.012958 -0.000277   \n\n                 XLP       XLU       XLV       XLY       XOP  YPRO   ^GSPTSE  \nDate                                                                          \n2015-07-10       NaN       NaN       NaN       NaN       NaN   NaN       NaN  \n2015-07-13       NaN       NaN       NaN       NaN       NaN   NaN  0.008473  \n2015-07-14  0.001612 -0.001395  0.010011  0.001269  0.030068   NaN  0.004555  \n2015-07-15 -0.002614  0.004892  0.001304 -0.001014 -0.038479   NaN  0.004308  \n2015-07-16  0.010284  0.014835  0.004688  0.006091 -0.011729   NaN  0.004692  \n...              ...       ...       ...       ...       ...   ...       ...  \n2020-07-06  0.004916 -0.012263  0.010138  0.023705  0.002117   NaN  0.004674  \n2020-07-07  0.009109 -0.004022 -0.008672 -0.015689 -0.034761   NaN -0.004735  \n2020-07-08 -0.002508  0.008954  0.000098  0.010651  0.000995   NaN  0.002161  \n2020-07-09 -0.007877 -0.013398 -0.007862 -0.001137 -0.052276   NaN -0.003877  \n2020-07-10  0.018412  0.018871 -0.002377  0.011917  0.036284   NaN  0.009326  \n\n[1281 rows x 426 columns]",
      "text/html": "<div>\n<style scoped>\n    .dataframe tbody tr th:only-of-type {\n        vertical-align: middle;\n    }\n\n    .dataframe tbody tr th {\n        vertical-align: top;\n    }\n\n    .dataframe thead th {\n        text-align: right;\n    }\n</style>\n<table border=\"1\" class=\"dataframe\">\n  <thead>\n    <tr style=\"text-align: right;\">\n      <th></th>\n      <th>AADR</th>\n      <th>AAXJ</th>\n      <th>ACCU</th>\n      <th>ACWI</th>\n      <th>ACWX</th>\n      <th>AGG</th>\n      <th>ALD</th>\n      <th>AMLP</th>\n      <th>AND</th>\n      <th>ARGT</th>\n      <th>...</th>\n      <th>XLF</th>\n      <th>XLI</th>\n      <th>XLK</th>\n      <th>XLP</th>\n      <th>XLU</th>\n      <th>XLV</th>\n      <th>XLY</th>\n      <th>XOP</th>\n      <th>YPRO</th>\n      <th>^GSPTSE</th>\n    </tr>\n    <tr>\n      <th>Date</th>\n      <th></th>\n      <th></th>\n      <th></th>\n      <th></th>\n      <th></th>\n      <th></th>\n      <th></th>\n      <th></th>\n      <th></th>\n      <th></th>\n      <th></th>\n      <th></th>\n      <th></th>\n      <th></th>\n      <th></th>\n      <th></th>\n      <th></th>\n      <th></th>\n      <th></th>\n      <th></th>\n      <th></th>\n    </tr>\n  </thead>\n  <tbody>\n    <tr>\n      <th>2015-07-10</th>\n      <td>NaN</td>\n      <td>NaN</td>\n      <td>NaN</td>\n      <td>NaN</td>\n      <td>NaN</td>\n      <td>NaN</td>\n      <td>NaN</td>\n      <td>NaN</td>\n      <td>NaN</td>\n      <td>NaN</td>\n      <td>...</td>\n      <td>NaN</td>\n      <td>NaN</td>\n      <td>NaN</td>\n      <td>NaN</td>\n      <td>NaN</td>\n      <td>NaN</td>\n      <td>NaN</td>\n      <td>NaN</td>\n      <td>NaN</td>\n      <td>NaN</td>\n    </tr>\n    <tr>\n      <th>2015-07-13</th>\n      <td>NaN</td>\n      <td>NaN</td>\n      <td>NaN</td>\n      <td>NaN</td>\n      <td>NaN</td>\n      <td>NaN</td>\n      <td>NaN</td>\n      <td>NaN</td>\n      <td>NaN</td>\n      <td>NaN</td>\n      <td>...</td>\n      <td>NaN</td>\n      <td>NaN</td>\n      <td>NaN</td>\n      <td>NaN</td>\n      <td>NaN</td>\n      <td>NaN</td>\n      <td>NaN</td>\n      <td>NaN</td>\n      <td>NaN</td>\n      <td>0.008473</td>\n    </tr>\n    <tr>\n      <th>2015-07-14</th>\n      <td>0.000000</td>\n      <td>-0.001949</td>\n      <td>NaN</td>\n      <td>0.006148</td>\n      <td>0.005624</td>\n      <td>0.001663</td>\n      <td>0.004228</td>\n      <td>0.006940</td>\n      <td>0.011097</td>\n      <td>0.013783</td>\n      <td>...</td>\n      <td>0.002406</td>\n      <td>0.002739</td>\n      <td>0.003803</td>\n      <td>0.001612</td>\n      <td>-0.001395</td>\n      <td>0.010011</td>\n      <td>0.001269</td>\n      <td>0.030068</td>\n      <td>NaN</td>\n      <td>0.004555</td>\n    </tr>\n    <tr>\n      <th>2015-07-15</th>\n      <td>0.000000</td>\n      <td>-0.011558</td>\n      <td>NaN</td>\n      <td>-0.002642</td>\n      <td>-0.004474</td>\n      <td>0.002676</td>\n      <td>-0.006426</td>\n      <td>-0.013784</td>\n      <td>-0.014634</td>\n      <td>-0.002014</td>\n      <td>...</td>\n      <td>0.008400</td>\n      <td>-0.004188</td>\n      <td>0.000237</td>\n      <td>-0.002614</td>\n      <td>0.004892</td>\n      <td>0.001304</td>\n      <td>-0.001014</td>\n      <td>-0.038479</td>\n      <td>NaN</td>\n      <td>0.004308</td>\n    </tr>\n    <tr>\n      <th>2015-07-16</th>\n      <td>0.017620</td>\n      <td>0.013340</td>\n      <td>NaN</td>\n      <td>0.007286</td>\n      <td>0.007640</td>\n      <td>0.000828</td>\n      <td>0.002944</td>\n      <td>-0.008894</td>\n      <td>-0.004951</td>\n      <td>0.022200</td>\n      <td>...</td>\n      <td>0.009917</td>\n      <td>0.004571</td>\n      <td>0.012784</td>\n      <td>0.010284</td>\n      <td>0.014835</td>\n      <td>0.004688</td>\n      <td>0.006091</td>\n      <td>-0.011729</td>\n      <td>NaN</td>\n      <td>0.004692</td>\n    </tr>\n    <tr>\n      <th>...</th>\n      <td>...</td>\n      <td>...</td>\n      <td>...</td>\n      <td>...</td>\n      <td>...</td>\n      <td>...</td>\n      <td>...</td>\n      <td>...</td>\n      <td>...</td>\n      <td>...</td>\n      <td>...</td>\n      <td>...</td>\n      <td>...</td>\n      <td>...</td>\n      <td>...</td>\n      <td>...</td>\n      <td>...</td>\n      <td>...</td>\n      <td>...</td>\n      <td>...</td>\n      <td>...</td>\n    </tr>\n    <tr>\n      <th>2020-07-06</th>\n      <td>0.010538</td>\n      <td>0.049644</td>\n      <td>NaN</td>\n      <td>0.019210</td>\n      <td>0.023583</td>\n      <td>-0.000085</td>\n      <td>0.000000</td>\n      <td>-0.028111</td>\n      <td>0.000000</td>\n      <td>0.069180</td>\n      <td>...</td>\n      <td>0.019155</td>\n      <td>0.014352</td>\n      <td>0.017479</td>\n      <td>0.004916</td>\n      <td>-0.012263</td>\n      <td>0.010138</td>\n      <td>0.023705</td>\n      <td>0.002117</td>\n      <td>NaN</td>\n      <td>0.004674</td>\n    </tr>\n    <tr>\n      <th>2020-07-07</th>\n      <td>0.004025</td>\n      <td>-0.018998</td>\n      <td>NaN</td>\n      <td>-0.011649</td>\n      <td>-0.015729</td>\n      <td>0.001523</td>\n      <td>0.000000</td>\n      <td>0.006380</td>\n      <td>0.000000</td>\n      <td>-0.012011</td>\n      <td>...</td>\n      <td>-0.020504</td>\n      <td>-0.019151</td>\n      <td>-0.010457</td>\n      <td>0.009109</td>\n      <td>-0.004022</td>\n      <td>-0.008672</td>\n      <td>-0.015689</td>\n      <td>-0.034761</td>\n      <td>NaN</td>\n      <td>-0.004735</td>\n    </tr>\n    <tr>\n      <th>2020-07-08</th>\n      <td>0.011662</td>\n      <td>0.026002</td>\n      <td>NaN</td>\n      <td>0.010330</td>\n      <td>0.013504</td>\n      <td>-0.000338</td>\n      <td>0.000000</td>\n      <td>0.001691</td>\n      <td>0.000000</td>\n      <td>0.006275</td>\n      <td>...</td>\n      <td>0.010467</td>\n      <td>0.000000</td>\n      <td>0.016322</td>\n      <td>-0.002508</td>\n      <td>0.008954</td>\n      <td>0.000098</td>\n      <td>0.010651</td>\n      <td>0.000995</td>\n      <td>NaN</td>\n      <td>0.002161</td>\n    </tr>\n    <tr>\n      <th>2020-07-09</th>\n      <td>0.008826</td>\n      <td>-0.001452</td>\n      <td>NaN</td>\n      <td>-0.006161</td>\n      <td>-0.007773</td>\n      <td>0.002620</td>\n      <td>0.000000</td>\n      <td>-0.037975</td>\n      <td>0.000000</td>\n      <td>-0.010522</td>\n      <td>...</td>\n      <td>-0.021148</td>\n      <td>-0.021711</td>\n      <td>0.003620</td>\n      <td>-0.007877</td>\n      <td>-0.013398</td>\n      <td>-0.007862</td>\n      <td>-0.001137</td>\n      <td>-0.052276</td>\n      <td>NaN</td>\n      <td>-0.003877</td>\n    </tr>\n    <tr>\n      <th>2020-07-10</th>\n      <td>-0.010177</td>\n      <td>-0.007403</td>\n      <td>NaN</td>\n      <td>0.008045</td>\n      <td>0.005595</td>\n      <td>-0.001180</td>\n      <td>0.000000</td>\n      <td>0.015351</td>\n      <td>0.000000</td>\n      <td>0.014967</td>\n      <td>...</td>\n      <td>0.034391</td>\n      <td>0.012958</td>\n      <td>-0.000277</td>\n      <td>0.018412</td>\n      <td>0.018871</td>\n      <td>-0.002377</td>\n      <td>0.011917</td>\n      <td>0.036284</td>\n      <td>NaN</td>\n      <td>0.009326</td>\n    </tr>\n  </tbody>\n</table>\n<p>1281 rows × 426 columns</p>\n</div>"
     },
     "metadata": {},
     "execution_count": 8
    }
   ],
   "source": [
    "returns_df = prices_df.pct_change()\n",
    "returns_df"
   ]
  },
  {
   "cell_type": "markdown",
   "metadata": {},
   "source": [
    "Calucate expected return using geomean from price return"
   ]
  },
  {
   "cell_type": "code",
   "execution_count": 20,
   "metadata": {},
   "outputs": [
    {
     "output_type": "execute_result",
     "data": {
      "text/plain": "ticker          GTAA      ARKW      SCHC     HECO       DLN       DBB  \\\nexp_return  0.000008  0.001252  0.000079  0.00015  0.000296  0.000027   \n\nticker           BWX       XBI       VWO      USO  ...       IWM      GVI  \\\nexp_return  0.000122  0.000231  0.000164 -0.00123  ...  0.000146  0.00013   \n\nticker           TLT       DJP     EMLP       FBT       PSQ       EWJ  \\\nexp_return  0.000378 -0.000343 -0.00004  0.000254 -0.000861  0.000131   \n\nticker           IDV       VTI  \nexp_return  0.000034  0.000382  \n\n[1 rows x 426 columns]",
      "text/html": "<div>\n<style scoped>\n    .dataframe tbody tr th:only-of-type {\n        vertical-align: middle;\n    }\n\n    .dataframe tbody tr th {\n        vertical-align: top;\n    }\n\n    .dataframe thead th {\n        text-align: right;\n    }\n</style>\n<table border=\"1\" class=\"dataframe\">\n  <thead>\n    <tr style=\"text-align: right;\">\n      <th>ticker</th>\n      <th>GTAA</th>\n      <th>ARKW</th>\n      <th>SCHC</th>\n      <th>HECO</th>\n      <th>DLN</th>\n      <th>DBB</th>\n      <th>BWX</th>\n      <th>XBI</th>\n      <th>VWO</th>\n      <th>USO</th>\n      <th>...</th>\n      <th>IWM</th>\n      <th>GVI</th>\n      <th>TLT</th>\n      <th>DJP</th>\n      <th>EMLP</th>\n      <th>FBT</th>\n      <th>PSQ</th>\n      <th>EWJ</th>\n      <th>IDV</th>\n      <th>VTI</th>\n    </tr>\n  </thead>\n  <tbody>\n    <tr>\n      <th>exp_return</th>\n      <td>0.000008</td>\n      <td>0.001252</td>\n      <td>0.000079</td>\n      <td>0.00015</td>\n      <td>0.000296</td>\n      <td>0.000027</td>\n      <td>0.000122</td>\n      <td>0.000231</td>\n      <td>0.000164</td>\n      <td>-0.00123</td>\n      <td>...</td>\n      <td>0.000146</td>\n      <td>0.00013</td>\n      <td>0.000378</td>\n      <td>-0.000343</td>\n      <td>-0.00004</td>\n      <td>0.000254</td>\n      <td>-0.000861</td>\n      <td>0.000131</td>\n      <td>0.000034</td>\n      <td>0.000382</td>\n    </tr>\n  </tbody>\n</table>\n<p>1 rows × 426 columns</p>\n</div>"
     },
     "metadata": {},
     "execution_count": 20
    }
   ],
   "source": [
    "from scipy.stats import gmean\n",
    "\n",
    "exp_return_df = pd.DataFrame()\n",
    "for found_ticker in found_tickers:\n",
    "    returns_sr = returns_df[pd.notnull(returns_df[found_ticker])][found_ticker]\n",
    "    if exp_return_df.empty:\n",
    "        exp_return_df = pd.DataFrame(data={\n",
    "            'ticker': found_ticker,\n",
    "            'exp_return': [0] if returns_sr.empty else [gmean(returns_sr + 1) - 1]\n",
    "        })\n",
    "    else:\n",
    "        exp_return_df = pd.concat([\n",
    "            exp_return_df,\n",
    "            pd.DataFrame(data={\n",
    "                'ticker': found_ticker,\n",
    "                'exp_return': [0] if returns_sr.empty else [gmean(returns_sr + 1) - 1]\n",
    "            })\n",
    "        ])\n",
    "\n",
    "exp_return_df = exp_return_df.set_index('ticker').T\n",
    "exp_return_df"
   ]
  },
  {
   "cell_type": "markdown",
   "metadata": {},
   "source": [
    "Calculate expected covariance using price return"
   ]
  },
  {
   "cell_type": "code",
   "execution_count": 12,
   "metadata": {},
   "outputs": [
    {
     "output_type": "execute_result",
     "data": {
      "text/plain": "             AADR      AAXJ  ACCU      ACWI      ACWX           AGG  \\\nAADR     0.000191  0.000134   NaN  0.000123  0.000128  8.304965e-06   \nAAXJ     0.000134  0.000175   NaN  0.000133  0.000143  9.727179e-07   \nACCU          NaN       NaN   NaN       NaN       NaN           NaN   \nACWI     0.000123  0.000133   NaN  0.000134  0.000133  5.634271e-07   \nACWX     0.000128  0.000143   NaN  0.000133  0.000141  2.233496e-06   \n...           ...       ...   ...       ...       ...           ...   \nXLV      0.000101  0.000106   NaN  0.000117  0.000106 -1.421955e-06   \nXLY      0.000122  0.000128   NaN  0.000134  0.000127  1.444136e-06   \nXOP      0.000190  0.000205   NaN  0.000213  0.000215 -2.394988e-06   \nYPRO          NaN       NaN   NaN       NaN       NaN           NaN   \n^GSPTSE  0.000107  0.000101   NaN  0.000106  0.000107  4.717699e-06   \n\n                  ALD      AMLP       AND      ARGT  ...       XLF       XLI  \\\nAADR     1.300385e-06  0.000155  0.000020  0.000168  ...  0.000138  0.000129   \nAAXJ     7.601095e-06  0.000142  0.000035  0.000160  ...  0.000146  0.000136   \nACCU              NaN       NaN       NaN       NaN  ...       NaN       NaN   \nACWI     5.217569e-06  0.000151  0.000024  0.000151  ...  0.000161  0.000146   \nACWX     8.014894e-06  0.000157  0.000027  0.000156  ...  0.000155  0.000140   \n...               ...       ...       ...       ...  ...       ...       ...   \nXLV      2.268029e-07  0.000116  0.000019  0.000119  ...  0.000138  0.000127   \nXLY      1.877616e-06  0.000151  0.000020  0.000150  ...  0.000163  0.000150   \nXOP     -1.492755e-05  0.000468  0.000033  0.000296  ...  0.000280  0.000252   \nYPRO              NaN       NaN       NaN       NaN  ...       NaN       NaN   \n^GSPTSE  1.159822e-06  0.000162  0.000018  0.000131  ...  0.000134  0.000120   \n\n              XLK       XLP       XLU       XLV       XLY       XOP  YPRO  \\\nAADR     0.000144  0.000073  0.000071  0.000101  0.000122  0.000190   NaN   \nAAXJ     0.000152  0.000077  0.000075  0.000106  0.000128  0.000205   NaN   \nACCU          NaN       NaN       NaN       NaN       NaN       NaN   NaN   \nACWI     0.000155  0.000091  0.000092  0.000117  0.000134  0.000213   NaN   \nACWX     0.000145  0.000083  0.000084  0.000106  0.000127  0.000215   NaN   \n...           ...       ...       ...       ...       ...       ...   ...   \nXLV      0.000141  0.000089  0.000089  0.000142  0.000117  0.000160   NaN   \nXLY      0.000163  0.000091  0.000088  0.000117  0.000157  0.000207   NaN   \nXOP      0.000223  0.000111  0.000095  0.000160  0.000207  0.000807   NaN   \nYPRO          NaN       NaN       NaN       NaN       NaN       NaN   NaN   \n^GSPTSE  0.000117  0.000070  0.000078  0.000087  0.000104  0.000205   NaN   \n\n          ^GSPTSE  \nAADR     0.000107  \nAAXJ     0.000101  \nACCU          NaN  \nACWI     0.000106  \nACWX     0.000107  \n...           ...  \nXLV      0.000087  \nXLY      0.000104  \nXOP      0.000205  \nYPRO          NaN  \n^GSPTSE  0.000119  \n\n[426 rows x 426 columns]",
      "text/html": "<div>\n<style scoped>\n    .dataframe tbody tr th:only-of-type {\n        vertical-align: middle;\n    }\n\n    .dataframe tbody tr th {\n        vertical-align: top;\n    }\n\n    .dataframe thead th {\n        text-align: right;\n    }\n</style>\n<table border=\"1\" class=\"dataframe\">\n  <thead>\n    <tr style=\"text-align: right;\">\n      <th></th>\n      <th>AADR</th>\n      <th>AAXJ</th>\n      <th>ACCU</th>\n      <th>ACWI</th>\n      <th>ACWX</th>\n      <th>AGG</th>\n      <th>ALD</th>\n      <th>AMLP</th>\n      <th>AND</th>\n      <th>ARGT</th>\n      <th>...</th>\n      <th>XLF</th>\n      <th>XLI</th>\n      <th>XLK</th>\n      <th>XLP</th>\n      <th>XLU</th>\n      <th>XLV</th>\n      <th>XLY</th>\n      <th>XOP</th>\n      <th>YPRO</th>\n      <th>^GSPTSE</th>\n    </tr>\n  </thead>\n  <tbody>\n    <tr>\n      <th>AADR</th>\n      <td>0.000191</td>\n      <td>0.000134</td>\n      <td>NaN</td>\n      <td>0.000123</td>\n      <td>0.000128</td>\n      <td>8.304965e-06</td>\n      <td>1.300385e-06</td>\n      <td>0.000155</td>\n      <td>0.000020</td>\n      <td>0.000168</td>\n      <td>...</td>\n      <td>0.000138</td>\n      <td>0.000129</td>\n      <td>0.000144</td>\n      <td>0.000073</td>\n      <td>0.000071</td>\n      <td>0.000101</td>\n      <td>0.000122</td>\n      <td>0.000190</td>\n      <td>NaN</td>\n      <td>0.000107</td>\n    </tr>\n    <tr>\n      <th>AAXJ</th>\n      <td>0.000134</td>\n      <td>0.000175</td>\n      <td>NaN</td>\n      <td>0.000133</td>\n      <td>0.000143</td>\n      <td>9.727179e-07</td>\n      <td>7.601095e-06</td>\n      <td>0.000142</td>\n      <td>0.000035</td>\n      <td>0.000160</td>\n      <td>...</td>\n      <td>0.000146</td>\n      <td>0.000136</td>\n      <td>0.000152</td>\n      <td>0.000077</td>\n      <td>0.000075</td>\n      <td>0.000106</td>\n      <td>0.000128</td>\n      <td>0.000205</td>\n      <td>NaN</td>\n      <td>0.000101</td>\n    </tr>\n    <tr>\n      <th>ACCU</th>\n      <td>NaN</td>\n      <td>NaN</td>\n      <td>NaN</td>\n      <td>NaN</td>\n      <td>NaN</td>\n      <td>NaN</td>\n      <td>NaN</td>\n      <td>NaN</td>\n      <td>NaN</td>\n      <td>NaN</td>\n      <td>...</td>\n      <td>NaN</td>\n      <td>NaN</td>\n      <td>NaN</td>\n      <td>NaN</td>\n      <td>NaN</td>\n      <td>NaN</td>\n      <td>NaN</td>\n      <td>NaN</td>\n      <td>NaN</td>\n      <td>NaN</td>\n    </tr>\n    <tr>\n      <th>ACWI</th>\n      <td>0.000123</td>\n      <td>0.000133</td>\n      <td>NaN</td>\n      <td>0.000134</td>\n      <td>0.000133</td>\n      <td>5.634271e-07</td>\n      <td>5.217569e-06</td>\n      <td>0.000151</td>\n      <td>0.000024</td>\n      <td>0.000151</td>\n      <td>...</td>\n      <td>0.000161</td>\n      <td>0.000146</td>\n      <td>0.000155</td>\n      <td>0.000091</td>\n      <td>0.000092</td>\n      <td>0.000117</td>\n      <td>0.000134</td>\n      <td>0.000213</td>\n      <td>NaN</td>\n      <td>0.000106</td>\n    </tr>\n    <tr>\n      <th>ACWX</th>\n      <td>0.000128</td>\n      <td>0.000143</td>\n      <td>NaN</td>\n      <td>0.000133</td>\n      <td>0.000141</td>\n      <td>2.233496e-06</td>\n      <td>8.014894e-06</td>\n      <td>0.000157</td>\n      <td>0.000027</td>\n      <td>0.000156</td>\n      <td>...</td>\n      <td>0.000155</td>\n      <td>0.000140</td>\n      <td>0.000145</td>\n      <td>0.000083</td>\n      <td>0.000084</td>\n      <td>0.000106</td>\n      <td>0.000127</td>\n      <td>0.000215</td>\n      <td>NaN</td>\n      <td>0.000107</td>\n    </tr>\n    <tr>\n      <th>...</th>\n      <td>...</td>\n      <td>...</td>\n      <td>...</td>\n      <td>...</td>\n      <td>...</td>\n      <td>...</td>\n      <td>...</td>\n      <td>...</td>\n      <td>...</td>\n      <td>...</td>\n      <td>...</td>\n      <td>...</td>\n      <td>...</td>\n      <td>...</td>\n      <td>...</td>\n      <td>...</td>\n      <td>...</td>\n      <td>...</td>\n      <td>...</td>\n      <td>...</td>\n      <td>...</td>\n    </tr>\n    <tr>\n      <th>XLV</th>\n      <td>0.000101</td>\n      <td>0.000106</td>\n      <td>NaN</td>\n      <td>0.000117</td>\n      <td>0.000106</td>\n      <td>-1.421955e-06</td>\n      <td>2.268029e-07</td>\n      <td>0.000116</td>\n      <td>0.000019</td>\n      <td>0.000119</td>\n      <td>...</td>\n      <td>0.000138</td>\n      <td>0.000127</td>\n      <td>0.000141</td>\n      <td>0.000089</td>\n      <td>0.000089</td>\n      <td>0.000142</td>\n      <td>0.000117</td>\n      <td>0.000160</td>\n      <td>NaN</td>\n      <td>0.000087</td>\n    </tr>\n    <tr>\n      <th>XLY</th>\n      <td>0.000122</td>\n      <td>0.000128</td>\n      <td>NaN</td>\n      <td>0.000134</td>\n      <td>0.000127</td>\n      <td>1.444136e-06</td>\n      <td>1.877616e-06</td>\n      <td>0.000151</td>\n      <td>0.000020</td>\n      <td>0.000150</td>\n      <td>...</td>\n      <td>0.000163</td>\n      <td>0.000150</td>\n      <td>0.000163</td>\n      <td>0.000091</td>\n      <td>0.000088</td>\n      <td>0.000117</td>\n      <td>0.000157</td>\n      <td>0.000207</td>\n      <td>NaN</td>\n      <td>0.000104</td>\n    </tr>\n    <tr>\n      <th>XOP</th>\n      <td>0.000190</td>\n      <td>0.000205</td>\n      <td>NaN</td>\n      <td>0.000213</td>\n      <td>0.000215</td>\n      <td>-2.394988e-06</td>\n      <td>-1.492755e-05</td>\n      <td>0.000468</td>\n      <td>0.000033</td>\n      <td>0.000296</td>\n      <td>...</td>\n      <td>0.000280</td>\n      <td>0.000252</td>\n      <td>0.000223</td>\n      <td>0.000111</td>\n      <td>0.000095</td>\n      <td>0.000160</td>\n      <td>0.000207</td>\n      <td>0.000807</td>\n      <td>NaN</td>\n      <td>0.000205</td>\n    </tr>\n    <tr>\n      <th>YPRO</th>\n      <td>NaN</td>\n      <td>NaN</td>\n      <td>NaN</td>\n      <td>NaN</td>\n      <td>NaN</td>\n      <td>NaN</td>\n      <td>NaN</td>\n      <td>NaN</td>\n      <td>NaN</td>\n      <td>NaN</td>\n      <td>...</td>\n      <td>NaN</td>\n      <td>NaN</td>\n      <td>NaN</td>\n      <td>NaN</td>\n      <td>NaN</td>\n      <td>NaN</td>\n      <td>NaN</td>\n      <td>NaN</td>\n      <td>NaN</td>\n      <td>NaN</td>\n    </tr>\n    <tr>\n      <th>^GSPTSE</th>\n      <td>0.000107</td>\n      <td>0.000101</td>\n      <td>NaN</td>\n      <td>0.000106</td>\n      <td>0.000107</td>\n      <td>4.717699e-06</td>\n      <td>1.159822e-06</td>\n      <td>0.000162</td>\n      <td>0.000018</td>\n      <td>0.000131</td>\n      <td>...</td>\n      <td>0.000134</td>\n      <td>0.000120</td>\n      <td>0.000117</td>\n      <td>0.000070</td>\n      <td>0.000078</td>\n      <td>0.000087</td>\n      <td>0.000104</td>\n      <td>0.000205</td>\n      <td>NaN</td>\n      <td>0.000119</td>\n    </tr>\n  </tbody>\n</table>\n<p>426 rows × 426 columns</p>\n</div>"
     },
     "metadata": {},
     "execution_count": 12
    }
   ],
   "source": [
    "covar_df = returns_df.cov()\n",
    "covar_df"
   ]
  },
  {
   "cell_type": "markdown",
   "metadata": {},
   "source": [
    "Reorder expected return to line up with covar matrix"
   ]
  },
  {
   "cell_type": "code",
   "execution_count": 22,
   "metadata": {},
   "outputs": [
    {
     "output_type": "execute_result",
     "data": {
      "text/plain": "ticker          AADR      AAXJ  ACCU      ACWI     ACWX       AGG       ALD  \\\nexp_return  0.000295  0.000232   0.0  0.000272  0.00011  0.000172 -0.005419   \n\nticker          AMLP       AND      ARGT  ...       XLF       XLI       XLK  \\\nexp_return -0.000646 -0.001779  0.000247  ...  0.000399  0.000251  0.000799   \n\nticker           XLP       XLU       XLV       XLY       XOP  YPRO   ^GSPTSE  \nexp_return  0.000258  0.000363  0.000288  0.000467 -0.000942   0.0  0.000068  \n\n[1 rows x 426 columns]",
      "text/html": "<div>\n<style scoped>\n    .dataframe tbody tr th:only-of-type {\n        vertical-align: middle;\n    }\n\n    .dataframe tbody tr th {\n        vertical-align: top;\n    }\n\n    .dataframe thead th {\n        text-align: right;\n    }\n</style>\n<table border=\"1\" class=\"dataframe\">\n  <thead>\n    <tr style=\"text-align: right;\">\n      <th>ticker</th>\n      <th>AADR</th>\n      <th>AAXJ</th>\n      <th>ACCU</th>\n      <th>ACWI</th>\n      <th>ACWX</th>\n      <th>AGG</th>\n      <th>ALD</th>\n      <th>AMLP</th>\n      <th>AND</th>\n      <th>ARGT</th>\n      <th>...</th>\n      <th>XLF</th>\n      <th>XLI</th>\n      <th>XLK</th>\n      <th>XLP</th>\n      <th>XLU</th>\n      <th>XLV</th>\n      <th>XLY</th>\n      <th>XOP</th>\n      <th>YPRO</th>\n      <th>^GSPTSE</th>\n    </tr>\n  </thead>\n  <tbody>\n    <tr>\n      <th>exp_return</th>\n      <td>0.000295</td>\n      <td>0.000232</td>\n      <td>0.0</td>\n      <td>0.000272</td>\n      <td>0.00011</td>\n      <td>0.000172</td>\n      <td>-0.005419</td>\n      <td>-0.000646</td>\n      <td>-0.001779</td>\n      <td>0.000247</td>\n      <td>...</td>\n      <td>0.000399</td>\n      <td>0.000251</td>\n      <td>0.000799</td>\n      <td>0.000258</td>\n      <td>0.000363</td>\n      <td>0.000288</td>\n      <td>0.000467</td>\n      <td>-0.000942</td>\n      <td>0.0</td>\n      <td>0.000068</td>\n    </tr>\n  </tbody>\n</table>\n<p>1 rows × 426 columns</p>\n</div>"
     },
     "metadata": {},
     "execution_count": 22
    }
   ],
   "source": [
    "exp_return_df = exp_return_df[covar_df.columns]\n",
    "exp_return_df"
   ]
  },
  {
   "cell_type": "markdown",
   "metadata": {},
   "source": [
    "Convex optimization of portfolio"
   ]
  },
  {
   "cell_type": "code",
   "execution_count": 39,
   "metadata": {
    "tags": []
   },
   "outputs": [
    {
     "output_type": "stream",
     "name": "stderr",
     "text": "C:\\tools\\Anaconda3\\lib\\site-packages\\cvxpy\\expressions\\expression.py:516: UserWarning: \nThis use of ``*`` has resulted in matrix multiplication.\nUsing ``*`` for matrix multiplication has been deprecated since CVXPY 1.1.\n    Use ``*`` for matrix-scalar and vector-scalar multiplication.\n    Use ``@`` for matrix-matrix and matrix-vector multiplication.\n    Use ``multiply`` for elementwise multiplication.\n\n  warnings.warn(__STAR_MATMUL_WARNING__, UserWarning)\n"
    },
    {
     "output_type": "error",
     "ename": "ValueError",
     "evalue": "setting an array element with a sequence.",
     "traceback": [
      "\u001b[1;31m---------------------------------------------------------------------------\u001b[0m",
      "\u001b[1;31mTypeError\u001b[0m                                 Traceback (most recent call last)",
      "\u001b[1;31mTypeError\u001b[0m: float() argument must be a string or a number, not 'MulExpression'",
      "\nThe above exception was the direct cause of the following exception:\n",
      "\u001b[1;31mValueError\u001b[0m                                Traceback (most recent call last)",
      "\u001b[1;32m<ipython-input-39-d32b8ae47da7>\u001b[0m in \u001b[0;36m<module>\u001b[1;34m\u001b[0m\n\u001b[0;32m      5\u001b[0m \u001b[0mport_return\u001b[0m \u001b[1;33m=\u001b[0m \u001b[0mexp_return_df\u001b[0m\u001b[1;33m.\u001b[0m\u001b[0miloc\u001b[0m\u001b[1;33m[\u001b[0m\u001b[1;36m0\u001b[0m\u001b[1;33m]\u001b[0m\u001b[1;33m.\u001b[0m\u001b[0mT\u001b[0m \u001b[1;33m*\u001b[0m \u001b[0mweights\u001b[0m\u001b[1;33m\u001b[0m\u001b[1;33m\u001b[0m\u001b[0m\n\u001b[0;32m      6\u001b[0m \u001b[0mrisk\u001b[0m \u001b[1;33m=\u001b[0m \u001b[0mcp\u001b[0m\u001b[1;33m.\u001b[0m\u001b[0mquad_form\u001b[0m\u001b[1;33m(\u001b[0m\u001b[0mweights\u001b[0m\u001b[1;33m,\u001b[0m \u001b[0mcovar_df\u001b[0m\u001b[1;33m.\u001b[0m\u001b[0mto_numpy\u001b[0m\u001b[1;33m(\u001b[0m\u001b[1;33m)\u001b[0m\u001b[1;33m)\u001b[0m\u001b[1;33m\u001b[0m\u001b[1;33m\u001b[0m\u001b[0m\n\u001b[1;32m----> 7\u001b[1;33m opt_problem = cp.Problem(cp.Maximize(port_return / risk), \n\u001b[0m\u001b[0;32m      8\u001b[0m                [cp.sum(weights) == 1, \n\u001b[0;32m      9\u001b[0m                 weights >= 0])\n",
      "\u001b[1;32mC:\\tools\\Anaconda3\\lib\\site-packages\\pandas\\core\\ops\\common.py\u001b[0m in \u001b[0;36mnew_method\u001b[1;34m(self, other)\u001b[0m\n\u001b[0;32m     62\u001b[0m         \u001b[0mother\u001b[0m \u001b[1;33m=\u001b[0m \u001b[0mitem_from_zerodim\u001b[0m\u001b[1;33m(\u001b[0m\u001b[0mother\u001b[0m\u001b[1;33m)\u001b[0m\u001b[1;33m\u001b[0m\u001b[1;33m\u001b[0m\u001b[0m\n\u001b[0;32m     63\u001b[0m \u001b[1;33m\u001b[0m\u001b[0m\n\u001b[1;32m---> 64\u001b[1;33m         \u001b[1;32mreturn\u001b[0m \u001b[0mmethod\u001b[0m\u001b[1;33m(\u001b[0m\u001b[0mself\u001b[0m\u001b[1;33m,\u001b[0m \u001b[0mother\u001b[0m\u001b[1;33m)\u001b[0m\u001b[1;33m\u001b[0m\u001b[1;33m\u001b[0m\u001b[0m\n\u001b[0m\u001b[0;32m     65\u001b[0m \u001b[1;33m\u001b[0m\u001b[0m\n\u001b[0;32m     66\u001b[0m     \u001b[1;32mreturn\u001b[0m \u001b[0mnew_method\u001b[0m\u001b[1;33m\u001b[0m\u001b[1;33m\u001b[0m\u001b[0m\n",
      "\u001b[1;32mC:\\tools\\Anaconda3\\lib\\site-packages\\pandas\\core\\ops\\__init__.py\u001b[0m in \u001b[0;36mwrapper\u001b[1;34m(left, right)\u001b[0m\n\u001b[0;32m    498\u001b[0m         \u001b[0mlvalues\u001b[0m \u001b[1;33m=\u001b[0m \u001b[0mextract_array\u001b[0m\u001b[1;33m(\u001b[0m\u001b[0mleft\u001b[0m\u001b[1;33m,\u001b[0m \u001b[0mextract_numpy\u001b[0m\u001b[1;33m=\u001b[0m\u001b[1;32mTrue\u001b[0m\u001b[1;33m)\u001b[0m\u001b[1;33m\u001b[0m\u001b[1;33m\u001b[0m\u001b[0m\n\u001b[0;32m    499\u001b[0m         \u001b[0mrvalues\u001b[0m \u001b[1;33m=\u001b[0m \u001b[0mextract_array\u001b[0m\u001b[1;33m(\u001b[0m\u001b[0mright\u001b[0m\u001b[1;33m,\u001b[0m \u001b[0mextract_numpy\u001b[0m\u001b[1;33m=\u001b[0m\u001b[1;32mTrue\u001b[0m\u001b[1;33m)\u001b[0m\u001b[1;33m\u001b[0m\u001b[1;33m\u001b[0m\u001b[0m\n\u001b[1;32m--> 500\u001b[1;33m         \u001b[0mresult\u001b[0m \u001b[1;33m=\u001b[0m \u001b[0marithmetic_op\u001b[0m\u001b[1;33m(\u001b[0m\u001b[0mlvalues\u001b[0m\u001b[1;33m,\u001b[0m \u001b[0mrvalues\u001b[0m\u001b[1;33m,\u001b[0m \u001b[0mop\u001b[0m\u001b[1;33m,\u001b[0m \u001b[0mstr_rep\u001b[0m\u001b[1;33m)\u001b[0m\u001b[1;33m\u001b[0m\u001b[1;33m\u001b[0m\u001b[0m\n\u001b[0m\u001b[0;32m    501\u001b[0m \u001b[1;33m\u001b[0m\u001b[0m\n\u001b[0;32m    502\u001b[0m         \u001b[1;32mreturn\u001b[0m \u001b[0m_construct_result\u001b[0m\u001b[1;33m(\u001b[0m\u001b[0mleft\u001b[0m\u001b[1;33m,\u001b[0m \u001b[0mresult\u001b[0m\u001b[1;33m,\u001b[0m \u001b[0mindex\u001b[0m\u001b[1;33m=\u001b[0m\u001b[0mleft\u001b[0m\u001b[1;33m.\u001b[0m\u001b[0mindex\u001b[0m\u001b[1;33m,\u001b[0m \u001b[0mname\u001b[0m\u001b[1;33m=\u001b[0m\u001b[0mres_name\u001b[0m\u001b[1;33m)\u001b[0m\u001b[1;33m\u001b[0m\u001b[1;33m\u001b[0m\u001b[0m\n",
      "\u001b[1;32mC:\\tools\\Anaconda3\\lib\\site-packages\\pandas\\core\\ops\\array_ops.py\u001b[0m in \u001b[0;36marithmetic_op\u001b[1;34m(left, right, op, str_rep)\u001b[0m\n\u001b[0;32m    195\u001b[0m     \u001b[1;32melse\u001b[0m\u001b[1;33m:\u001b[0m\u001b[1;33m\u001b[0m\u001b[1;33m\u001b[0m\u001b[0m\n\u001b[0;32m    196\u001b[0m         \u001b[1;32mwith\u001b[0m \u001b[0mnp\u001b[0m\u001b[1;33m.\u001b[0m\u001b[0merrstate\u001b[0m\u001b[1;33m(\u001b[0m\u001b[0mall\u001b[0m\u001b[1;33m=\u001b[0m\u001b[1;34m\"ignore\"\u001b[0m\u001b[1;33m)\u001b[0m\u001b[1;33m:\u001b[0m\u001b[1;33m\u001b[0m\u001b[1;33m\u001b[0m\u001b[0m\n\u001b[1;32m--> 197\u001b[1;33m             \u001b[0mres_values\u001b[0m \u001b[1;33m=\u001b[0m \u001b[0mna_arithmetic_op\u001b[0m\u001b[1;33m(\u001b[0m\u001b[0mlvalues\u001b[0m\u001b[1;33m,\u001b[0m \u001b[0mrvalues\u001b[0m\u001b[1;33m,\u001b[0m \u001b[0mop\u001b[0m\u001b[1;33m,\u001b[0m \u001b[0mstr_rep\u001b[0m\u001b[1;33m)\u001b[0m\u001b[1;33m\u001b[0m\u001b[1;33m\u001b[0m\u001b[0m\n\u001b[0m\u001b[0;32m    198\u001b[0m \u001b[1;33m\u001b[0m\u001b[0m\n\u001b[0;32m    199\u001b[0m     \u001b[1;32mreturn\u001b[0m \u001b[0mres_values\u001b[0m\u001b[1;33m\u001b[0m\u001b[1;33m\u001b[0m\u001b[0m\n",
      "\u001b[1;32mC:\\tools\\Anaconda3\\lib\\site-packages\\pandas\\core\\ops\\array_ops.py\u001b[0m in \u001b[0;36mna_arithmetic_op\u001b[1;34m(left, right, op, str_rep)\u001b[0m\n\u001b[0;32m    147\u001b[0m \u001b[1;33m\u001b[0m\u001b[0m\n\u001b[0;32m    148\u001b[0m     \u001b[1;32mtry\u001b[0m\u001b[1;33m:\u001b[0m\u001b[1;33m\u001b[0m\u001b[1;33m\u001b[0m\u001b[0m\n\u001b[1;32m--> 149\u001b[1;33m         \u001b[0mresult\u001b[0m \u001b[1;33m=\u001b[0m \u001b[0mexpressions\u001b[0m\u001b[1;33m.\u001b[0m\u001b[0mevaluate\u001b[0m\u001b[1;33m(\u001b[0m\u001b[0mop\u001b[0m\u001b[1;33m,\u001b[0m \u001b[0mstr_rep\u001b[0m\u001b[1;33m,\u001b[0m \u001b[0mleft\u001b[0m\u001b[1;33m,\u001b[0m \u001b[0mright\u001b[0m\u001b[1;33m)\u001b[0m\u001b[1;33m\u001b[0m\u001b[1;33m\u001b[0m\u001b[0m\n\u001b[0m\u001b[0;32m    150\u001b[0m     \u001b[1;32mexcept\u001b[0m \u001b[0mTypeError\u001b[0m\u001b[1;33m:\u001b[0m\u001b[1;33m\u001b[0m\u001b[1;33m\u001b[0m\u001b[0m\n\u001b[0;32m    151\u001b[0m         \u001b[0mresult\u001b[0m \u001b[1;33m=\u001b[0m \u001b[0mmasked_arith_op\u001b[0m\u001b[1;33m(\u001b[0m\u001b[0mleft\u001b[0m\u001b[1;33m,\u001b[0m \u001b[0mright\u001b[0m\u001b[1;33m,\u001b[0m \u001b[0mop\u001b[0m\u001b[1;33m)\u001b[0m\u001b[1;33m\u001b[0m\u001b[1;33m\u001b[0m\u001b[0m\n",
      "\u001b[1;32mC:\\tools\\Anaconda3\\lib\\site-packages\\pandas\\core\\computation\\expressions.py\u001b[0m in \u001b[0;36mevaluate\u001b[1;34m(op, op_str, a, b, use_numexpr)\u001b[0m\n\u001b[0;32m    206\u001b[0m     \u001b[0muse_numexpr\u001b[0m \u001b[1;33m=\u001b[0m \u001b[0muse_numexpr\u001b[0m \u001b[1;32mand\u001b[0m \u001b[0m_bool_arith_check\u001b[0m\u001b[1;33m(\u001b[0m\u001b[0mop_str\u001b[0m\u001b[1;33m,\u001b[0m \u001b[0ma\u001b[0m\u001b[1;33m,\u001b[0m \u001b[0mb\u001b[0m\u001b[1;33m)\u001b[0m\u001b[1;33m\u001b[0m\u001b[1;33m\u001b[0m\u001b[0m\n\u001b[0;32m    207\u001b[0m     \u001b[1;32mif\u001b[0m \u001b[0muse_numexpr\u001b[0m\u001b[1;33m:\u001b[0m\u001b[1;33m\u001b[0m\u001b[1;33m\u001b[0m\u001b[0m\n\u001b[1;32m--> 208\u001b[1;33m         \u001b[1;32mreturn\u001b[0m \u001b[0m_evaluate\u001b[0m\u001b[1;33m(\u001b[0m\u001b[0mop\u001b[0m\u001b[1;33m,\u001b[0m \u001b[0mop_str\u001b[0m\u001b[1;33m,\u001b[0m \u001b[0ma\u001b[0m\u001b[1;33m,\u001b[0m \u001b[0mb\u001b[0m\u001b[1;33m)\u001b[0m\u001b[1;33m\u001b[0m\u001b[1;33m\u001b[0m\u001b[0m\n\u001b[0m\u001b[0;32m    209\u001b[0m     \u001b[1;32mreturn\u001b[0m \u001b[0m_evaluate_standard\u001b[0m\u001b[1;33m(\u001b[0m\u001b[0mop\u001b[0m\u001b[1;33m,\u001b[0m \u001b[0mop_str\u001b[0m\u001b[1;33m,\u001b[0m \u001b[0ma\u001b[0m\u001b[1;33m,\u001b[0m \u001b[0mb\u001b[0m\u001b[1;33m)\u001b[0m\u001b[1;33m\u001b[0m\u001b[1;33m\u001b[0m\u001b[0m\n\u001b[0;32m    210\u001b[0m \u001b[1;33m\u001b[0m\u001b[0m\n",
      "\u001b[1;32mC:\\tools\\Anaconda3\\lib\\site-packages\\pandas\\core\\computation\\expressions.py\u001b[0m in \u001b[0;36m_evaluate_numexpr\u001b[1;34m(op, op_str, a, b)\u001b[0m\n\u001b[0;32m    119\u001b[0m \u001b[1;33m\u001b[0m\u001b[0m\n\u001b[0;32m    120\u001b[0m     \u001b[1;32mif\u001b[0m \u001b[0mresult\u001b[0m \u001b[1;32mis\u001b[0m \u001b[1;32mNone\u001b[0m\u001b[1;33m:\u001b[0m\u001b[1;33m\u001b[0m\u001b[1;33m\u001b[0m\u001b[0m\n\u001b[1;32m--> 121\u001b[1;33m         \u001b[0mresult\u001b[0m \u001b[1;33m=\u001b[0m \u001b[0m_evaluate_standard\u001b[0m\u001b[1;33m(\u001b[0m\u001b[0mop\u001b[0m\u001b[1;33m,\u001b[0m \u001b[0mop_str\u001b[0m\u001b[1;33m,\u001b[0m \u001b[0ma\u001b[0m\u001b[1;33m,\u001b[0m \u001b[0mb\u001b[0m\u001b[1;33m)\u001b[0m\u001b[1;33m\u001b[0m\u001b[1;33m\u001b[0m\u001b[0m\n\u001b[0m\u001b[0;32m    122\u001b[0m \u001b[1;33m\u001b[0m\u001b[0m\n\u001b[0;32m    123\u001b[0m     \u001b[1;32mreturn\u001b[0m \u001b[0mresult\u001b[0m\u001b[1;33m\u001b[0m\u001b[1;33m\u001b[0m\u001b[0m\n",
      "\u001b[1;32mC:\\tools\\Anaconda3\\lib\\site-packages\\pandas\\core\\computation\\expressions.py\u001b[0m in \u001b[0;36m_evaluate_standard\u001b[1;34m(op, op_str, a, b)\u001b[0m\n\u001b[0;32m     68\u001b[0m         \u001b[0m_store_test_result\u001b[0m\u001b[1;33m(\u001b[0m\u001b[1;32mFalse\u001b[0m\u001b[1;33m)\u001b[0m\u001b[1;33m\u001b[0m\u001b[1;33m\u001b[0m\u001b[0m\n\u001b[0;32m     69\u001b[0m     \u001b[1;32mwith\u001b[0m \u001b[0mnp\u001b[0m\u001b[1;33m.\u001b[0m\u001b[0merrstate\u001b[0m\u001b[1;33m(\u001b[0m\u001b[0mall\u001b[0m\u001b[1;33m=\u001b[0m\u001b[1;34m\"ignore\"\u001b[0m\u001b[1;33m)\u001b[0m\u001b[1;33m:\u001b[0m\u001b[1;33m\u001b[0m\u001b[1;33m\u001b[0m\u001b[0m\n\u001b[1;32m---> 70\u001b[1;33m         \u001b[1;32mreturn\u001b[0m \u001b[0mop\u001b[0m\u001b[1;33m(\u001b[0m\u001b[0ma\u001b[0m\u001b[1;33m,\u001b[0m \u001b[0mb\u001b[0m\u001b[1;33m)\u001b[0m\u001b[1;33m\u001b[0m\u001b[1;33m\u001b[0m\u001b[0m\n\u001b[0m\u001b[0;32m     71\u001b[0m \u001b[1;33m\u001b[0m\u001b[0m\n\u001b[0;32m     72\u001b[0m \u001b[1;33m\u001b[0m\u001b[0m\n",
      "\u001b[1;32mC:\\tools\\Anaconda3\\lib\\site-packages\\cvxpy\\expressions\\expression.py\u001b[0m in \u001b[0;36mcast_op\u001b[1;34m(self, other)\u001b[0m\n\u001b[0;32m     44\u001b[0m         \"\"\"A wrapped binary operator that can handle non-Expression arguments.\n\u001b[0;32m     45\u001b[0m         \"\"\"\n\u001b[1;32m---> 46\u001b[1;33m         \u001b[0mother\u001b[0m \u001b[1;33m=\u001b[0m \u001b[0mself\u001b[0m\u001b[1;33m.\u001b[0m\u001b[0mcast_to_const\u001b[0m\u001b[1;33m(\u001b[0m\u001b[0mother\u001b[0m\u001b[1;33m)\u001b[0m\u001b[1;33m\u001b[0m\u001b[1;33m\u001b[0m\u001b[0m\n\u001b[0m\u001b[0;32m     47\u001b[0m         \u001b[1;32mreturn\u001b[0m \u001b[0mbinary_op\u001b[0m\u001b[1;33m(\u001b[0m\u001b[0mself\u001b[0m\u001b[1;33m,\u001b[0m \u001b[0mother\u001b[0m\u001b[1;33m)\u001b[0m\u001b[1;33m\u001b[0m\u001b[1;33m\u001b[0m\u001b[0m\n\u001b[0;32m     48\u001b[0m     \u001b[1;32mreturn\u001b[0m \u001b[0mcast_op\u001b[0m\u001b[1;33m\u001b[0m\u001b[1;33m\u001b[0m\u001b[0m\n",
      "\u001b[1;32mC:\\tools\\Anaconda3\\lib\\site-packages\\cvxpy\\expressions\\expression.py\u001b[0m in \u001b[0;36mcast_to_const\u001b[1;34m(expr)\u001b[0m\n\u001b[0;32m    458\u001b[0m         \"\"\"Converts a non-Expression to a Constant.\n\u001b[0;32m    459\u001b[0m         \"\"\"\n\u001b[1;32m--> 460\u001b[1;33m         \u001b[1;32mreturn\u001b[0m \u001b[0mexpr\u001b[0m \u001b[1;32mif\u001b[0m \u001b[0misinstance\u001b[0m\u001b[1;33m(\u001b[0m\u001b[0mexpr\u001b[0m\u001b[1;33m,\u001b[0m \u001b[0mExpression\u001b[0m\u001b[1;33m)\u001b[0m \u001b[1;32melse\u001b[0m \u001b[0mcvxtypes\u001b[0m\u001b[1;33m.\u001b[0m\u001b[0mconstant\u001b[0m\u001b[1;33m(\u001b[0m\u001b[1;33m)\u001b[0m\u001b[1;33m(\u001b[0m\u001b[0mexpr\u001b[0m\u001b[1;33m)\u001b[0m\u001b[1;33m\u001b[0m\u001b[1;33m\u001b[0m\u001b[0m\n\u001b[0m\u001b[0;32m    461\u001b[0m \u001b[1;33m\u001b[0m\u001b[0m\n\u001b[0;32m    462\u001b[0m     \u001b[1;33m@\u001b[0m\u001b[0m_cast_other\u001b[0m\u001b[1;33m\u001b[0m\u001b[1;33m\u001b[0m\u001b[0m\n",
      "\u001b[1;32mC:\\tools\\Anaconda3\\lib\\site-packages\\cvxpy\\expressions\\constants\\constant.py\u001b[0m in \u001b[0;36m__init__\u001b[1;34m(self, value)\u001b[0m\n\u001b[0;32m     43\u001b[0m             \u001b[0mself\u001b[0m\u001b[1;33m.\u001b[0m\u001b[0m_sparse\u001b[0m \u001b[1;33m=\u001b[0m \u001b[1;32mTrue\u001b[0m\u001b[1;33m\u001b[0m\u001b[1;33m\u001b[0m\u001b[0m\n\u001b[0;32m     44\u001b[0m         \u001b[1;32melse\u001b[0m\u001b[1;33m:\u001b[0m\u001b[1;33m\u001b[0m\u001b[1;33m\u001b[0m\u001b[0m\n\u001b[1;32m---> 45\u001b[1;33m             \u001b[0mself\u001b[0m\u001b[1;33m.\u001b[0m\u001b[0m_value\u001b[0m \u001b[1;33m=\u001b[0m \u001b[0mintf\u001b[0m\u001b[1;33m.\u001b[0m\u001b[0mDEFAULT_INTF\u001b[0m\u001b[1;33m.\u001b[0m\u001b[0mconst_to_matrix\u001b[0m\u001b[1;33m(\u001b[0m\u001b[0mvalue\u001b[0m\u001b[1;33m)\u001b[0m\u001b[1;33m\u001b[0m\u001b[1;33m\u001b[0m\u001b[0m\n\u001b[0m\u001b[0;32m     46\u001b[0m             \u001b[0mself\u001b[0m\u001b[1;33m.\u001b[0m\u001b[0m_sparse\u001b[0m \u001b[1;33m=\u001b[0m \u001b[1;32mFalse\u001b[0m\u001b[1;33m\u001b[0m\u001b[1;33m\u001b[0m\u001b[0m\n\u001b[0;32m     47\u001b[0m         \u001b[0mself\u001b[0m\u001b[1;33m.\u001b[0m\u001b[0m_imag\u001b[0m \u001b[1;33m=\u001b[0m \u001b[1;32mNone\u001b[0m\u001b[1;33m\u001b[0m\u001b[1;33m\u001b[0m\u001b[0m\n",
      "\u001b[1;32mC:\\tools\\Anaconda3\\lib\\site-packages\\cvxpy\\interface\\numpy_interface\\ndarray_interface.py\u001b[0m in \u001b[0;36mconst_to_matrix\u001b[1;34m(self, value, convert_scalars)\u001b[0m\n\u001b[0;32m     48\u001b[0m             \u001b[1;32mreturn\u001b[0m \u001b[0mresult\u001b[0m\u001b[1;33m\u001b[0m\u001b[1;33m\u001b[0m\u001b[0m\n\u001b[0;32m     49\u001b[0m         \u001b[1;32melse\u001b[0m\u001b[1;33m:\u001b[0m\u001b[1;33m\u001b[0m\u001b[1;33m\u001b[0m\u001b[0m\n\u001b[1;32m---> 50\u001b[1;33m             \u001b[1;32mreturn\u001b[0m \u001b[0mresult\u001b[0m\u001b[1;33m.\u001b[0m\u001b[0mastype\u001b[0m\u001b[1;33m(\u001b[0m\u001b[0mnumpy\u001b[0m\u001b[1;33m.\u001b[0m\u001b[0mfloat64\u001b[0m\u001b[1;33m)\u001b[0m\u001b[1;33m\u001b[0m\u001b[1;33m\u001b[0m\u001b[0m\n\u001b[0m\u001b[0;32m     51\u001b[0m \u001b[1;33m\u001b[0m\u001b[0m\n\u001b[0;32m     52\u001b[0m     \u001b[1;31m# Return an identity matrix.\u001b[0m\u001b[1;33m\u001b[0m\u001b[1;33m\u001b[0m\u001b[1;33m\u001b[0m\u001b[0m\n",
      "\u001b[1;31mValueError\u001b[0m: setting an array element with a sequence."
     ]
    }
   ],
   "source": [
    "import cvxpy as cp\n",
    "import numpy as np\n",
    "\n",
    "weights = cp.Variable(exp_return_df.columns.__len__(), name='weights')\n",
    "gamma = cp.Parameter(nonneg=True)\n",
    "port_return = exp_return_df.iloc[0].T * weights \n",
    "risk = cp.quad_form(weights, covar_df.to_numpy())\n",
    "opt_problem = cp.Problem(cp.Maximize(port_return - gamma * risk), \n",
    "               [cp.sum(weights) == 1, \n",
    "                weights >= 0])\n",
    "opt_problem.solve()\n",
    "weights.value "
   ]
  }
 ],
 "metadata": {
  "file_extension": ".py",
  "kernelspec": {
   "display_name": "Python 3",
   "language": "python",
   "name": "python3"
  },
  "language_info": {
   "codemirror_mode": {
    "name": "ipython",
    "version": 3
   },
   "file_extension": ".py",
   "mimetype": "text/x-python",
   "name": "python",
   "nbconvert_exporter": "python",
   "pygments_lexer": "ipython3",
   "version": "3.7.6-final"
  },
  "mimetype": "text/x-python",
  "name": "python",
  "npconvert_exporter": "python",
  "pygments_lexer": "ipython3",
  "version": 3
 },
 "nbformat": 4,
 "nbformat_minor": 4
}